{
 "cells": [
  {
   "cell_type": "markdown",
   "metadata": {},
   "source": [
    "### Data Description\n",
    "\n",
    "The dataset consists of customer information for a customer churn prediction problem, containing the following columns:\n",
    "\n",
    "- **CustomerID**: Unique identifier for each customer.\n",
    "- **Name**: Name of the customer.\n",
    "- **Age**: Age of the customer.\n",
    "- **Gender**: Gender of the customer (Male or Female).\n",
    "- **Location**: Location where the customer is based, with options including Houston, Los Angeles, Miami, Chicago, and New York.\n",
    "- **Subscription_Length_Months**: The number of months the customer has been subscribed.\n",
    "- **Monthly_Bill**: Monthly bill amount for the customer.\n",
    "- **Total_Usage_GB**: Total usage in gigabytes.\n",
    "- **Churn**: A binary indicator (1 or 0) representing whether the customer has churned (1) or not (0).\n"
   ]
  },
  {
   "cell_type": "code",
   "execution_count": 68,
   "metadata": {},
   "outputs": [],
   "source": [
    "import pandas as pd\n",
    "import seaborn as sns\n",
    "import matplotlib.pyplot as plt\n",
    "import numpy as np\n",
    "import time\n",
    "import optuna\n",
    "\n",
    "from sklearn.model_selection import train_test_split\n",
    "from sklearn.preprocessing import MinMaxScaler\n",
    "from sklearn.decomposition import PCA\n",
    "\n",
    "from sklearn.metrics import classification_report, accuracy_score, precision_score, recall_score, f1_score\n",
    "from sklearn.linear_model import LogisticRegression\n",
    "from sklearn.tree import DecisionTreeClassifier\n",
    "from sklearn.neighbors import KNeighborsClassifier\n",
    "from sklearn.svm import SVC\n",
    "from sklearn.ensemble import AdaBoostClassifier, RandomForestClassifier\n",
    "from xgboost import XGBClassifier\n",
    "from sklearn.metrics import roc_curve, auc ,confusion_matrix ,roc_auc_score"
   ]
  },
  {
   "cell_type": "code",
   "execution_count": 2,
   "metadata": {},
   "outputs": [
    {
     "data": {
      "text/html": [
       "<div>\n",
       "<style scoped>\n",
       "    .dataframe tbody tr th:only-of-type {\n",
       "        vertical-align: middle;\n",
       "    }\n",
       "\n",
       "    .dataframe tbody tr th {\n",
       "        vertical-align: top;\n",
       "    }\n",
       "\n",
       "    .dataframe thead th {\n",
       "        text-align: right;\n",
       "    }\n",
       "</style>\n",
       "<table border=\"1\" class=\"dataframe\">\n",
       "  <thead>\n",
       "    <tr style=\"text-align: right;\">\n",
       "      <th></th>\n",
       "      <th>CustomerID</th>\n",
       "      <th>Name</th>\n",
       "      <th>Age</th>\n",
       "      <th>Gender</th>\n",
       "      <th>Location</th>\n",
       "      <th>Subscription_Length_Months</th>\n",
       "      <th>Monthly_Bill</th>\n",
       "      <th>Total_Usage_GB</th>\n",
       "      <th>Churn</th>\n",
       "    </tr>\n",
       "  </thead>\n",
       "  <tbody>\n",
       "    <tr>\n",
       "      <th>0</th>\n",
       "      <td>1</td>\n",
       "      <td>Customer_1</td>\n",
       "      <td>63</td>\n",
       "      <td>Male</td>\n",
       "      <td>Los Angeles</td>\n",
       "      <td>17</td>\n",
       "      <td>73.36</td>\n",
       "      <td>236</td>\n",
       "      <td>0</td>\n",
       "    </tr>\n",
       "    <tr>\n",
       "      <th>1</th>\n",
       "      <td>2</td>\n",
       "      <td>Customer_2</td>\n",
       "      <td>62</td>\n",
       "      <td>Female</td>\n",
       "      <td>New York</td>\n",
       "      <td>1</td>\n",
       "      <td>48.76</td>\n",
       "      <td>172</td>\n",
       "      <td>0</td>\n",
       "    </tr>\n",
       "    <tr>\n",
       "      <th>2</th>\n",
       "      <td>3</td>\n",
       "      <td>Customer_3</td>\n",
       "      <td>24</td>\n",
       "      <td>Female</td>\n",
       "      <td>Los Angeles</td>\n",
       "      <td>5</td>\n",
       "      <td>85.47</td>\n",
       "      <td>460</td>\n",
       "      <td>0</td>\n",
       "    </tr>\n",
       "    <tr>\n",
       "      <th>3</th>\n",
       "      <td>4</td>\n",
       "      <td>Customer_4</td>\n",
       "      <td>36</td>\n",
       "      <td>Female</td>\n",
       "      <td>Miami</td>\n",
       "      <td>3</td>\n",
       "      <td>97.94</td>\n",
       "      <td>297</td>\n",
       "      <td>1</td>\n",
       "    </tr>\n",
       "    <tr>\n",
       "      <th>4</th>\n",
       "      <td>5</td>\n",
       "      <td>Customer_5</td>\n",
       "      <td>46</td>\n",
       "      <td>Female</td>\n",
       "      <td>Miami</td>\n",
       "      <td>19</td>\n",
       "      <td>58.14</td>\n",
       "      <td>266</td>\n",
       "      <td>0</td>\n",
       "    </tr>\n",
       "    <tr>\n",
       "      <th>5</th>\n",
       "      <td>6</td>\n",
       "      <td>Customer_6</td>\n",
       "      <td>67</td>\n",
       "      <td>Male</td>\n",
       "      <td>New York</td>\n",
       "      <td>15</td>\n",
       "      <td>82.65</td>\n",
       "      <td>456</td>\n",
       "      <td>1</td>\n",
       "    </tr>\n",
       "    <tr>\n",
       "      <th>6</th>\n",
       "      <td>7</td>\n",
       "      <td>Customer_7</td>\n",
       "      <td>30</td>\n",
       "      <td>Female</td>\n",
       "      <td>Chicago</td>\n",
       "      <td>3</td>\n",
       "      <td>73.79</td>\n",
       "      <td>269</td>\n",
       "      <td>0</td>\n",
       "    </tr>\n",
       "    <tr>\n",
       "      <th>7</th>\n",
       "      <td>8</td>\n",
       "      <td>Customer_8</td>\n",
       "      <td>67</td>\n",
       "      <td>Female</td>\n",
       "      <td>Miami</td>\n",
       "      <td>1</td>\n",
       "      <td>97.70</td>\n",
       "      <td>396</td>\n",
       "      <td>1</td>\n",
       "    </tr>\n",
       "    <tr>\n",
       "      <th>8</th>\n",
       "      <td>9</td>\n",
       "      <td>Customer_9</td>\n",
       "      <td>20</td>\n",
       "      <td>Female</td>\n",
       "      <td>Miami</td>\n",
       "      <td>10</td>\n",
       "      <td>42.45</td>\n",
       "      <td>150</td>\n",
       "      <td>1</td>\n",
       "    </tr>\n",
       "    <tr>\n",
       "      <th>9</th>\n",
       "      <td>10</td>\n",
       "      <td>Customer_10</td>\n",
       "      <td>53</td>\n",
       "      <td>Female</td>\n",
       "      <td>Los Angeles</td>\n",
       "      <td>12</td>\n",
       "      <td>64.49</td>\n",
       "      <td>383</td>\n",
       "      <td>1</td>\n",
       "    </tr>\n",
       "  </tbody>\n",
       "</table>\n",
       "</div>"
      ],
      "text/plain": [
       "   CustomerID         Name  Age  Gender     Location  \\\n",
       "0           1   Customer_1   63    Male  Los Angeles   \n",
       "1           2   Customer_2   62  Female     New York   \n",
       "2           3   Customer_3   24  Female  Los Angeles   \n",
       "3           4   Customer_4   36  Female        Miami   \n",
       "4           5   Customer_5   46  Female        Miami   \n",
       "5           6   Customer_6   67    Male     New York   \n",
       "6           7   Customer_7   30  Female      Chicago   \n",
       "7           8   Customer_8   67  Female        Miami   \n",
       "8           9   Customer_9   20  Female        Miami   \n",
       "9          10  Customer_10   53  Female  Los Angeles   \n",
       "\n",
       "   Subscription_Length_Months  Monthly_Bill  Total_Usage_GB  Churn  \n",
       "0                          17         73.36             236      0  \n",
       "1                           1         48.76             172      0  \n",
       "2                           5         85.47             460      0  \n",
       "3                           3         97.94             297      1  \n",
       "4                          19         58.14             266      0  \n",
       "5                          15         82.65             456      1  \n",
       "6                           3         73.79             269      0  \n",
       "7                           1         97.70             396      1  \n",
       "8                          10         42.45             150      1  \n",
       "9                          12         64.49             383      1  "
      ]
     },
     "execution_count": 2,
     "metadata": {},
     "output_type": "execute_result"
    }
   ],
   "source": [
    "df = pd.read_excel('../datasets/customer_churn_large_dataset.xlsx')\n",
    "df.head(10)"
   ]
  },
  {
   "cell_type": "code",
   "execution_count": 3,
   "metadata": {},
   "outputs": [
    {
     "data": {
      "text/html": [
       "<div>\n",
       "<style scoped>\n",
       "    .dataframe tbody tr th:only-of-type {\n",
       "        vertical-align: middle;\n",
       "    }\n",
       "\n",
       "    .dataframe tbody tr th {\n",
       "        vertical-align: top;\n",
       "    }\n",
       "\n",
       "    .dataframe thead th {\n",
       "        text-align: right;\n",
       "    }\n",
       "</style>\n",
       "<table border=\"1\" class=\"dataframe\">\n",
       "  <thead>\n",
       "    <tr style=\"text-align: right;\">\n",
       "      <th></th>\n",
       "      <th>CustomerID</th>\n",
       "      <th>Name</th>\n",
       "      <th>Age</th>\n",
       "      <th>Gender</th>\n",
       "      <th>Location</th>\n",
       "      <th>Subscription_Length_Months</th>\n",
       "      <th>Monthly_Bill</th>\n",
       "      <th>Total_Usage_GB</th>\n",
       "      <th>Churn</th>\n",
       "    </tr>\n",
       "  </thead>\n",
       "  <tbody>\n",
       "    <tr>\n",
       "      <th>99990</th>\n",
       "      <td>99991</td>\n",
       "      <td>Customer_99991</td>\n",
       "      <td>62</td>\n",
       "      <td>Male</td>\n",
       "      <td>Chicago</td>\n",
       "      <td>9</td>\n",
       "      <td>36.34</td>\n",
       "      <td>432</td>\n",
       "      <td>0</td>\n",
       "    </tr>\n",
       "    <tr>\n",
       "      <th>99991</th>\n",
       "      <td>99992</td>\n",
       "      <td>Customer_99992</td>\n",
       "      <td>55</td>\n",
       "      <td>Female</td>\n",
       "      <td>Miami</td>\n",
       "      <td>14</td>\n",
       "      <td>73.87</td>\n",
       "      <td>324</td>\n",
       "      <td>1</td>\n",
       "    </tr>\n",
       "    <tr>\n",
       "      <th>99992</th>\n",
       "      <td>99993</td>\n",
       "      <td>Customer_99993</td>\n",
       "      <td>44</td>\n",
       "      <td>Male</td>\n",
       "      <td>New York</td>\n",
       "      <td>18</td>\n",
       "      <td>45.87</td>\n",
       "      <td>229</td>\n",
       "      <td>0</td>\n",
       "    </tr>\n",
       "    <tr>\n",
       "      <th>99993</th>\n",
       "      <td>99994</td>\n",
       "      <td>Customer_99994</td>\n",
       "      <td>20</td>\n",
       "      <td>Female</td>\n",
       "      <td>Houston</td>\n",
       "      <td>15</td>\n",
       "      <td>84.72</td>\n",
       "      <td>312</td>\n",
       "      <td>1</td>\n",
       "    </tr>\n",
       "    <tr>\n",
       "      <th>99994</th>\n",
       "      <td>99995</td>\n",
       "      <td>Customer_99995</td>\n",
       "      <td>47</td>\n",
       "      <td>Female</td>\n",
       "      <td>Houston</td>\n",
       "      <td>8</td>\n",
       "      <td>34.58</td>\n",
       "      <td>200</td>\n",
       "      <td>0</td>\n",
       "    </tr>\n",
       "    <tr>\n",
       "      <th>99995</th>\n",
       "      <td>99996</td>\n",
       "      <td>Customer_99996</td>\n",
       "      <td>33</td>\n",
       "      <td>Male</td>\n",
       "      <td>Houston</td>\n",
       "      <td>23</td>\n",
       "      <td>55.13</td>\n",
       "      <td>226</td>\n",
       "      <td>1</td>\n",
       "    </tr>\n",
       "    <tr>\n",
       "      <th>99996</th>\n",
       "      <td>99997</td>\n",
       "      <td>Customer_99997</td>\n",
       "      <td>62</td>\n",
       "      <td>Female</td>\n",
       "      <td>New York</td>\n",
       "      <td>19</td>\n",
       "      <td>61.65</td>\n",
       "      <td>351</td>\n",
       "      <td>0</td>\n",
       "    </tr>\n",
       "    <tr>\n",
       "      <th>99997</th>\n",
       "      <td>99998</td>\n",
       "      <td>Customer_99998</td>\n",
       "      <td>64</td>\n",
       "      <td>Male</td>\n",
       "      <td>Chicago</td>\n",
       "      <td>17</td>\n",
       "      <td>96.11</td>\n",
       "      <td>251</td>\n",
       "      <td>1</td>\n",
       "    </tr>\n",
       "    <tr>\n",
       "      <th>99998</th>\n",
       "      <td>99999</td>\n",
       "      <td>Customer_99999</td>\n",
       "      <td>51</td>\n",
       "      <td>Female</td>\n",
       "      <td>New York</td>\n",
       "      <td>20</td>\n",
       "      <td>49.25</td>\n",
       "      <td>434</td>\n",
       "      <td>1</td>\n",
       "    </tr>\n",
       "    <tr>\n",
       "      <th>99999</th>\n",
       "      <td>100000</td>\n",
       "      <td>Customer_100000</td>\n",
       "      <td>27</td>\n",
       "      <td>Female</td>\n",
       "      <td>Los Angeles</td>\n",
       "      <td>19</td>\n",
       "      <td>76.57</td>\n",
       "      <td>173</td>\n",
       "      <td>1</td>\n",
       "    </tr>\n",
       "  </tbody>\n",
       "</table>\n",
       "</div>"
      ],
      "text/plain": [
       "       CustomerID             Name  Age  Gender     Location  \\\n",
       "99990       99991   Customer_99991   62    Male      Chicago   \n",
       "99991       99992   Customer_99992   55  Female        Miami   \n",
       "99992       99993   Customer_99993   44    Male     New York   \n",
       "99993       99994   Customer_99994   20  Female      Houston   \n",
       "99994       99995   Customer_99995   47  Female      Houston   \n",
       "99995       99996   Customer_99996   33    Male      Houston   \n",
       "99996       99997   Customer_99997   62  Female     New York   \n",
       "99997       99998   Customer_99998   64    Male      Chicago   \n",
       "99998       99999   Customer_99999   51  Female     New York   \n",
       "99999      100000  Customer_100000   27  Female  Los Angeles   \n",
       "\n",
       "       Subscription_Length_Months  Monthly_Bill  Total_Usage_GB  Churn  \n",
       "99990                           9         36.34             432      0  \n",
       "99991                          14         73.87             324      1  \n",
       "99992                          18         45.87             229      0  \n",
       "99993                          15         84.72             312      1  \n",
       "99994                           8         34.58             200      0  \n",
       "99995                          23         55.13             226      1  \n",
       "99996                          19         61.65             351      0  \n",
       "99997                          17         96.11             251      1  \n",
       "99998                          20         49.25             434      1  \n",
       "99999                          19         76.57             173      1  "
      ]
     },
     "execution_count": 3,
     "metadata": {},
     "output_type": "execute_result"
    }
   ],
   "source": [
    "df.tail(10)"
   ]
  },
  {
   "cell_type": "markdown",
   "metadata": {},
   "source": [
    "#### Fist glance observation of data\n",
    "\n",
    "#### The Customer ID and seems to be of no use as its just unique id so we can drop them\n"
   ]
  },
  {
   "cell_type": "code",
   "execution_count": 4,
   "metadata": {},
   "outputs": [],
   "source": [
    "## Before making any changes to data making a copy of it\n",
    "df_copy = df.copy()"
   ]
  },
  {
   "cell_type": "code",
   "execution_count": 5,
   "metadata": {},
   "outputs": [],
   "source": [
    "#drop customerID and name attributes from dataframe\n",
    "df_copy.drop(['CustomerID', 'Name'], axis = 1, inplace = True)"
   ]
  },
  {
   "cell_type": "markdown",
   "metadata": {},
   "source": [
    "## Exploratory Data Analysis (EDA)"
   ]
  },
  {
   "cell_type": "code",
   "execution_count": 6,
   "metadata": {},
   "outputs": [
    {
     "data": {
      "text/plain": [
       "(100000, 7)"
      ]
     },
     "execution_count": 6,
     "metadata": {},
     "output_type": "execute_result"
    }
   ],
   "source": [
    "df_copy.shape"
   ]
  },
  {
   "cell_type": "code",
   "execution_count": 7,
   "metadata": {},
   "outputs": [
    {
     "data": {
      "text/plain": [
       "Index(['Age', 'Gender', 'Location', 'Subscription_Length_Months',\n",
       "       'Monthly_Bill', 'Total_Usage_GB', 'Churn'],\n",
       "      dtype='object')"
      ]
     },
     "execution_count": 7,
     "metadata": {},
     "output_type": "execute_result"
    }
   ],
   "source": [
    "df_copy.columns"
   ]
  },
  {
   "cell_type": "code",
   "execution_count": 8,
   "metadata": {},
   "outputs": [
    {
     "name": "stdout",
     "output_type": "stream",
     "text": [
      "<class 'pandas.core.frame.DataFrame'>\n",
      "RangeIndex: 100000 entries, 0 to 99999\n",
      "Data columns (total 7 columns):\n",
      " #   Column                      Non-Null Count   Dtype  \n",
      "---  ------                      --------------   -----  \n",
      " 0   Age                         100000 non-null  int64  \n",
      " 1   Gender                      100000 non-null  object \n",
      " 2   Location                    100000 non-null  object \n",
      " 3   Subscription_Length_Months  100000 non-null  int64  \n",
      " 4   Monthly_Bill                100000 non-null  float64\n",
      " 5   Total_Usage_GB              100000 non-null  int64  \n",
      " 6   Churn                       100000 non-null  int64  \n",
      "dtypes: float64(1), int64(4), object(2)\n",
      "memory usage: 5.3+ MB\n"
     ]
    }
   ],
   "source": [
    "# checking the information about a DataFrame \n",
    "df_copy.info()\n"
   ]
  },
  {
   "cell_type": "markdown",
   "metadata": {},
   "source": [
    "#### ALl features have correct number of data"
   ]
  },
  {
   "cell_type": "code",
   "execution_count": 9,
   "metadata": {},
   "outputs": [
    {
     "data": {
      "text/plain": [
       "Age                           0\n",
       "Gender                        0\n",
       "Location                      0\n",
       "Subscription_Length_Months    0\n",
       "Monthly_Bill                  0\n",
       "Total_Usage_GB                0\n",
       "Churn                         0\n",
       "dtype: int64"
      ]
     },
     "execution_count": 9,
     "metadata": {},
     "output_type": "execute_result"
    }
   ],
   "source": [
    "## Check for null values\n",
    "df_copy.isna().sum()\n"
   ]
  },
  {
   "cell_type": "markdown",
   "metadata": {},
   "source": [
    "#### No null values found"
   ]
  },
  {
   "cell_type": "code",
   "execution_count": 10,
   "metadata": {},
   "outputs": [
    {
     "data": {
      "text/plain": [
       "0"
      ]
     },
     "execution_count": 10,
     "metadata": {},
     "output_type": "execute_result"
    }
   ],
   "source": [
    "## checking for duplicated\n",
    "df_copy.duplicated().sum()"
   ]
  },
  {
   "cell_type": "markdown",
   "metadata": {},
   "source": [
    "#### No duplicate values found"
   ]
  },
  {
   "cell_type": "code",
   "execution_count": 11,
   "metadata": {},
   "outputs": [
    {
     "data": {
      "text/html": [
       "<div>\n",
       "<style scoped>\n",
       "    .dataframe tbody tr th:only-of-type {\n",
       "        vertical-align: middle;\n",
       "    }\n",
       "\n",
       "    .dataframe tbody tr th {\n",
       "        vertical-align: top;\n",
       "    }\n",
       "\n",
       "    .dataframe thead th {\n",
       "        text-align: right;\n",
       "    }\n",
       "</style>\n",
       "<table border=\"1\" class=\"dataframe\">\n",
       "  <thead>\n",
       "    <tr style=\"text-align: right;\">\n",
       "      <th></th>\n",
       "      <th>Age</th>\n",
       "      <th>Subscription_Length_Months</th>\n",
       "      <th>Monthly_Bill</th>\n",
       "      <th>Total_Usage_GB</th>\n",
       "      <th>Churn</th>\n",
       "    </tr>\n",
       "  </thead>\n",
       "  <tbody>\n",
       "    <tr>\n",
       "      <th>count</th>\n",
       "      <td>100000.000000</td>\n",
       "      <td>100000.000000</td>\n",
       "      <td>100000.000000</td>\n",
       "      <td>100000.000000</td>\n",
       "      <td>100000.000000</td>\n",
       "    </tr>\n",
       "    <tr>\n",
       "      <th>mean</th>\n",
       "      <td>44.027020</td>\n",
       "      <td>12.490100</td>\n",
       "      <td>65.053197</td>\n",
       "      <td>274.393650</td>\n",
       "      <td>0.497790</td>\n",
       "    </tr>\n",
       "    <tr>\n",
       "      <th>std</th>\n",
       "      <td>15.280283</td>\n",
       "      <td>6.926461</td>\n",
       "      <td>20.230696</td>\n",
       "      <td>130.463063</td>\n",
       "      <td>0.499998</td>\n",
       "    </tr>\n",
       "    <tr>\n",
       "      <th>min</th>\n",
       "      <td>18.000000</td>\n",
       "      <td>1.000000</td>\n",
       "      <td>30.000000</td>\n",
       "      <td>50.000000</td>\n",
       "      <td>0.000000</td>\n",
       "    </tr>\n",
       "    <tr>\n",
       "      <th>25%</th>\n",
       "      <td>31.000000</td>\n",
       "      <td>6.000000</td>\n",
       "      <td>47.540000</td>\n",
       "      <td>161.000000</td>\n",
       "      <td>0.000000</td>\n",
       "    </tr>\n",
       "    <tr>\n",
       "      <th>50%</th>\n",
       "      <td>44.000000</td>\n",
       "      <td>12.000000</td>\n",
       "      <td>65.010000</td>\n",
       "      <td>274.000000</td>\n",
       "      <td>0.000000</td>\n",
       "    </tr>\n",
       "    <tr>\n",
       "      <th>75%</th>\n",
       "      <td>57.000000</td>\n",
       "      <td>19.000000</td>\n",
       "      <td>82.640000</td>\n",
       "      <td>387.000000</td>\n",
       "      <td>1.000000</td>\n",
       "    </tr>\n",
       "    <tr>\n",
       "      <th>max</th>\n",
       "      <td>70.000000</td>\n",
       "      <td>24.000000</td>\n",
       "      <td>100.000000</td>\n",
       "      <td>500.000000</td>\n",
       "      <td>1.000000</td>\n",
       "    </tr>\n",
       "  </tbody>\n",
       "</table>\n",
       "</div>"
      ],
      "text/plain": [
       "                 Age  Subscription_Length_Months   Monthly_Bill  \\\n",
       "count  100000.000000               100000.000000  100000.000000   \n",
       "mean       44.027020                   12.490100      65.053197   \n",
       "std        15.280283                    6.926461      20.230696   \n",
       "min        18.000000                    1.000000      30.000000   \n",
       "25%        31.000000                    6.000000      47.540000   \n",
       "50%        44.000000                   12.000000      65.010000   \n",
       "75%        57.000000                   19.000000      82.640000   \n",
       "max        70.000000                   24.000000     100.000000   \n",
       "\n",
       "       Total_Usage_GB          Churn  \n",
       "count   100000.000000  100000.000000  \n",
       "mean       274.393650       0.497790  \n",
       "std        130.463063       0.499998  \n",
       "min         50.000000       0.000000  \n",
       "25%        161.000000       0.000000  \n",
       "50%        274.000000       0.000000  \n",
       "75%        387.000000       1.000000  \n",
       "max        500.000000       1.000000  "
      ]
     },
     "execution_count": 11,
     "metadata": {},
     "output_type": "execute_result"
    }
   ],
   "source": [
    "# Statistical summary of numerical variables\n",
    "\n",
    "df_copy.describe()"
   ]
  },
  {
   "cell_type": "markdown",
   "metadata": {},
   "source": [
    "### Age\n",
    "\n",
    "- The average age of the customers is approximately 44 years.\n",
    "- The ages of the people vary widely, ranging from 18 to 70 years.\n",
    "- The majority of customers fall within the age range of 31 to 57 years.\n",
    "\n",
    "### Subscription_Length_Months\n",
    "\n",
    "- On average, customers have a subscription length of around 12.5 months.\n",
    "- Subscription lengths vary between 1 and 24 months.\n",
    "- The majority of customers have subscription lengths ranging from 6 to 19 months.\n",
    "- The standard deviation is approximately 6.9 months, indicating some variation in subscription lengths.\n",
    "\n",
    "### Monthly_Bill\n",
    "\n",
    "- Customers pay an average monthly bill of roughly $65.\n",
    "- Monthly bills range from $30 (minimum) to $100 (maximum).\n",
    "- The majority of customers pay between approximately $47.50 to $82.64 per month.\n",
    "- Monthly bill amounts have a standard deviation of about $20.23, showing some variability.\n",
    "\n",
    "### Total_Usage_GB\n",
    "\n",
    "- The average total usage of customers is about 274.4 GB.\n",
    "- Total usage varies between 50 GB (minimum) and 500 GB (maximum).\n",
    "- Most customers have total usage between 161 GB and 387 GB.\n",
    "- Total usage has a standard deviation of approximately 130.46 GB, indicating a significant range.\n",
    "\n",
    "### Churn\n",
    "\n",
    "- About half of the customers have churned (Churn value = 1), while the other half haven't (Churn value = 0).\n",
    "- This is represented by a mean churn rate of approximately 0.5.\n",
    "- Churn values are binary (0 or 1), indicating whether a customer has churned or not.\n",
    "- The churn rate is evenly distributed due to a mean close to 0.5.\n"
   ]
  },
  {
   "cell_type": "code",
   "execution_count": 12,
   "metadata": {},
   "outputs": [
    {
     "name": "stdout",
     "output_type": "stream",
     "text": [
      "Unique values in column 'Gender':\n",
      "Male\n",
      "Female\n",
      "\n",
      "\n",
      "Unique values in column 'Location':\n",
      "Los Angeles\n",
      "New York\n",
      "Miami\n",
      "Chicago\n",
      "Houston\n",
      "\n",
      "\n"
     ]
    }
   ],
   "source": [
    "## Checking unique value of categorical columns\n",
    "categorical_columns = df_copy.select_dtypes(include=['object']).columns\n",
    "# Exclude the \"Name\" column from the list of categorical columns\n",
    "categorical_columns = [col for col in categorical_columns if col != \"Name\"]\n",
    "\n",
    "for column in categorical_columns:\n",
    "    unique_values = df_copy[column].unique()\n",
    "    print(f\"Unique values in column '{column}':\")\n",
    "    for value in unique_values:\n",
    "        print(value)\n",
    "    print(\"\\n\")"
   ]
  },
  {
   "cell_type": "code",
   "execution_count": null,
   "metadata": {},
   "outputs": [],
   "source": []
  },
  {
   "cell_type": "code",
   "execution_count": 13,
   "metadata": {},
   "outputs": [
    {
     "data": {
      "text/html": [
       "<div>\n",
       "<style scoped>\n",
       "    .dataframe tbody tr th:only-of-type {\n",
       "        vertical-align: middle;\n",
       "    }\n",
       "\n",
       "    .dataframe tbody tr th {\n",
       "        vertical-align: top;\n",
       "    }\n",
       "\n",
       "    .dataframe thead th {\n",
       "        text-align: right;\n",
       "    }\n",
       "</style>\n",
       "<table border=\"1\" class=\"dataframe\">\n",
       "  <thead>\n",
       "    <tr style=\"text-align: right;\">\n",
       "      <th></th>\n",
       "      <th>Gender</th>\n",
       "      <th>Location</th>\n",
       "    </tr>\n",
       "  </thead>\n",
       "  <tbody>\n",
       "    <tr>\n",
       "      <th>count</th>\n",
       "      <td>100000</td>\n",
       "      <td>100000</td>\n",
       "    </tr>\n",
       "    <tr>\n",
       "      <th>unique</th>\n",
       "      <td>2</td>\n",
       "      <td>5</td>\n",
       "    </tr>\n",
       "    <tr>\n",
       "      <th>top</th>\n",
       "      <td>Female</td>\n",
       "      <td>Houston</td>\n",
       "    </tr>\n",
       "    <tr>\n",
       "      <th>freq</th>\n",
       "      <td>50216</td>\n",
       "      <td>20157</td>\n",
       "    </tr>\n",
       "  </tbody>\n",
       "</table>\n",
       "</div>"
      ],
      "text/plain": [
       "        Gender Location\n",
       "count   100000   100000\n",
       "unique       2        5\n",
       "top     Female  Houston\n",
       "freq     50216    20157"
      ]
     },
     "execution_count": 13,
     "metadata": {},
     "output_type": "execute_result"
    }
   ],
   "source": [
    "\n",
    "# Statistical summary of categorical variables\n",
    "df_copy.describe(include=['object'])\n",
    "\n"
   ]
  },
  {
   "cell_type": "code",
   "execution_count": 14,
   "metadata": {},
   "outputs": [
    {
     "name": "stdout",
     "output_type": "stream",
     "text": [
      "Value counts for column 'Gender':\n",
      "Gender\n",
      "Female    50216\n",
      "Male      49784\n",
      "Name: count, dtype: int64\n",
      "\n",
      "\n",
      "Value counts for column 'Location':\n",
      "Location\n",
      "Houston        20157\n",
      "Los Angeles    20041\n",
      "Miami          20031\n",
      "Chicago        19958\n",
      "New York       19813\n",
      "Name: count, dtype: int64\n",
      "\n",
      "\n"
     ]
    }
   ],
   "source": [
    "# Finding count of each value in categorical column\n",
    "categorical_columns = df.select_dtypes(include=['object']).columns\n",
    "\n",
    "# Exclude the \"Name\" column from the list of categorical columns\n",
    "categorical_columns = [col for col in categorical_columns if col != \"Name\"]\n",
    "\n",
    "for column in categorical_columns:\n",
    "    value_counts = df[column].value_counts()\n",
    "    print(f\"Value counts for column '{column}':\")\n",
    "    print(value_counts)\n",
    "    print(\"\\n\")"
   ]
  },
  {
   "cell_type": "markdown",
   "metadata": {},
   "source": [
    "\n",
    "### Gender\n",
    "\n",
    "- The dataset includes information about two unique genders.\n",
    "- The most common gender is \"Female,\" which appears 50,216 times.\n",
    "- The frequency of females in the dataset is greater than that Male.\n",
    "\n",
    "### Location\n",
    "\n",
    "- The dataset contains information about five unique locations[Houston, Los Angeles, Miami, Chicago, New York].\n",
    "- The most frequent location is \"Houston,\" occurring 20,157 times.\n",
    "\n"
   ]
  },
  {
   "cell_type": "code",
   "execution_count": 15,
   "metadata": {},
   "outputs": [
    {
     "name": "stdout",
     "output_type": "stream",
     "text": [
      "Correlation Matrix between Numerical Variables:\n",
      "                                 Age  Subscription_Length_Months  \\\n",
      "Age                         1.000000                    0.003382   \n",
      "Subscription_Length_Months  0.003382                    1.000000   \n",
      "Monthly_Bill                0.001110                   -0.005294   \n",
      "Total_Usage_GB              0.001927                   -0.002203   \n",
      "Churn                       0.001559                    0.002328   \n",
      "\n",
      "                            Monthly_Bill  Total_Usage_GB     Churn  \n",
      "Age                             0.001110        0.001927  0.001559  \n",
      "Subscription_Length_Months     -0.005294       -0.002203  0.002328  \n",
      "Monthly_Bill                    1.000000        0.003187 -0.000211  \n",
      "Total_Usage_GB                  0.003187        1.000000 -0.002842  \n",
      "Churn                          -0.000211       -0.002842  1.000000  \n"
     ]
    }
   ],
   "source": [
    "# Checking correlation between numerical variables\n",
    "\n",
    "numerical_columns = df_copy.select_dtypes(include=['number'])  \n",
    "\n",
    "if not numerical_columns.empty:\n",
    "    correlation_matrix = numerical_columns.corr()  \n",
    "\n",
    "\n",
    "    print(\"Correlation Matrix between Numerical Variables:\")\n",
    "    print(correlation_matrix)\n",
    "else:\n",
    "    print(\"No numerical columns found in the DataFrame.\")"
   ]
  },
  {
   "cell_type": "markdown",
   "metadata": {},
   "source": []
  },
  {
   "cell_type": "code",
   "execution_count": 16,
   "metadata": {},
   "outputs": [
    {
     "data": {
      "image/png": "[encoded data removed]",
      "text/plain": [
       "<Figure size 1000x800 with 2 Axes>"
      ]
     },
     "metadata": {},
     "output_type": "display_data"
    }
   ],
   "source": [
    "# Creating a heatmap\n",
    "plt.figure(figsize=(10, 8))\n",
    "sns.heatmap(correlation_matrix, annot=True, cmap='coolwarm', fmt=\".4f\")\n",
    "\n",
    "# Adding labels and title\n",
    "plt.xlabel(\"Numerical Features\")\n",
    "plt.ylabel(\"Numerical Features\")\n",
    "plt.title(\"Correlation Heatmap\")\n",
    "\n",
    "# Show the heatmap\n",
    "plt.show()"
   ]
  },
  {
   "cell_type": "markdown",
   "metadata": {},
   "source": [
    "\n",
    "**Age vs. Other Variables:**\n",
    "\n",
    "- Age also has very weak correlations with other variables, all of which are close to zero. This indicates that age is not strongly correlated with the other numerical features.\n",
    "\n",
    "**Subscription_Length_Months vs. Other Variables:**\n",
    "\n",
    "- Subscription_Length_Months has a very weak positive correlation with itself (perfect correlation with itself, as expected), but its correlations with other variables are also very weak and close to zero. There is no strong correlation observed.\n",
    "\n",
    "**Monthly_Bill vs. Other Variables:**\n",
    "\n",
    "- Monthly_Bill has very weak correlations with all other variables. It is not strongly correlated with age, subscription length, total usage, or churn.\n",
    "\n",
    "**Total_Usage_GB vs. Other Variables:**\n",
    "\n",
    "- Total_Usage_GB has very weak correlations with all other variables. There is no strong correlation observed with age, subscription length, monthly bill, or churn.\n",
    "\n",
    "**Churn vs. Other Variables:**\n",
    "``\n",
    "- Churn, being a binary variable (0 or 1), has very weak correlations with all other numerical variables. There is no strong linear correlation between churn and the other numerical features.\n",
    "\n",
    "\n",
    "\n",
    "#### No multicollinearity in our dataset, so all the remaining columns of our dataset are equally important for predicting our class variable\n",
    "\n"
   ]
  },
  {
   "cell_type": "code",
   "execution_count": 17,
   "metadata": {},
   "outputs": [
    {
     "name": "stdout",
     "output_type": "stream",
     "text": [
      "['Age', 'Subscription_Length_Months', 'Monthly_Bill', 'Total_Usage_GB']\n",
      "['Gender', 'Location']\n"
     ]
    }
   ],
   "source": [
    "# separating the numerical and categorical columns\n",
    "\n",
    "numerical_columns = df_copy.select_dtypes(include=['float64', 'int64']).columns\n",
    "\n",
    "# Exclude binary variables from the list\n",
    "binary_columns = [var for var in numerical_columns if df_copy[var].nunique() == 2]\n",
    "\n",
    "# Exclude binary variables from the continuous variables\n",
    "numerical_columns = [var for var in numerical_columns if var not in binary_columns]\n",
    "print(numerical_columns)\n",
    "\n",
    "# categorical columns\n",
    "categorical_columns = df_copy.select_dtypes(exclude='number').columns\n",
    "categorical_columns = list(categorical_columns)\n",
    "print(categorical_columns)\n",
    "\n",
    "\n"
   ]
  },
  {
   "cell_type": "code",
   "execution_count": 18,
   "metadata": {},
   "outputs": [
    {
     "data": {
      "image/png": "[encoded data removed]",
      "text/plain": [
       "<Figure size 600x400 with 1 Axes>"
      ]
     },
     "metadata": {},
     "output_type": "display_data"
    },
    {
     "data": {
      "image/png": "[encoded data removed]",
      "text/plain": [
       "<Figure size 600x400 with 1 Axes>"
      ]
     },
     "metadata": {},
     "output_type": "display_data"
    },
    {
     "data": {
      "image/png": "[encoded data removed]",
      "text/plain": [
       "<Figure size 600x400 with 1 Axes>"
      ]
     },
     "metadata": {},
     "output_type": "display_data"
    },
    {
     "data": {
      "image/png": "[encoded data removed]",
      "text/plain": [
       "<Figure size 600x400 with 1 Axes>"
      ]
     },
     "metadata": {},
     "output_type": "display_data"
    }
   ],
   "source": [
    "# Plot the distribution of each continuous variable\n",
    "for var in numerical_columns:\n",
    "    plt.figure(figsize=(6, 4))\n",
    "    sns.histplot(data=df_copy, x=var, bins=17, kde=True)\n",
    "    plt.xlabel(var)\n",
    "    plt.ylabel('Frequency')\n",
    "    plt.title(f'Distribution of {var}')\n",
    "    plt.show()"
   ]
  },
  {
   "cell_type": "code",
   "execution_count": 19,
   "metadata": {},
   "outputs": [
    {
     "data": {
      "text/plain": [
       "Age                          -0.002689\n",
       "Subscription_Length_Months   -0.001655\n",
       "Monthly_Bill                 -0.000326\n",
       "Total_Usage_GB                0.007113\n",
       "dtype: float64"
      ]
     },
     "execution_count": 19,
     "metadata": {},
     "output_type": "execute_result"
    }
   ],
   "source": [
    "# check skewness of all continuous variables\n",
    "df_copy[numerical_columns].skew()\n"
   ]
  },
  {
   "cell_type": "markdown",
   "metadata": {},
   "source": [
    "**All variables are approx normally distributed.**\n",
    "\n",
    "**We have many unique values in each column, but they're all almost balanced.**"
   ]
  },
  {
   "cell_type": "code",
   "execution_count": 20,
   "metadata": {},
   "outputs": [
    {
     "data": {
      "image/png": "[encoded data removed]",
      "text/plain": [
       "<Figure size 1200x600 with 1 Axes>"
      ]
     },
     "metadata": {},
     "output_type": "display_data"
    }
   ],
   "source": [
    "# count plots\n",
    "fig, ax = plt.subplots(figsize=(12,6)  , dpi=100)\n",
    "sns.countplot(x='Gender', hue=\"Churn\", data=df_copy)\n",
    "ax.set_xlabel('Gender')\n",
    "ax.set_ylabel('Value count')\n",
    "plt.show()"
   ]
  },
  {
   "cell_type": "code",
   "execution_count": 21,
   "metadata": {},
   "outputs": [
    {
     "data": {
      "image/png": "[encoded data removed]",
      "text/plain": [
       "<Figure size 1200x600 with 1 Axes>"
      ]
     },
     "metadata": {},
     "output_type": "display_data"
    }
   ],
   "source": [
    "fig, ax = plt.subplots(figsize=(12,6), dpi=100)\n",
    "\n",
    "sns.countplot(x='Location', hue=\"Churn\", data=df_copy)\n",
    "\n",
    "ax.set_xlabel('Location')\n",
    "ax.set_ylabel('Value Counts')\n",
    "\n",
    "plt.show()"
   ]
  },
  {
   "cell_type": "markdown",
   "metadata": {},
   "source": [
    "\n",
    "### checking Outliers \n",
    "\n",
    "It is important to find and remove unusual or extreme data points, also known as outliers. Outliers can affect the model's understanding of the data and lead to wrong predictions. \n"
   ]
  },
  {
   "cell_type": "code",
   "execution_count": 22,
   "metadata": {},
   "outputs": [
    {
     "data": {
      "image/png": "[encoded data removed]",
      "text/plain": [
       "<Figure size 700x600 with 1 Axes>"
      ]
     },
     "metadata": {},
     "output_type": "display_data"
    }
   ],
   "source": [
    "\n",
    "\n",
    "# Adjust figure size based on the number of columns\n",
    "num_columns = len(df_copy.columns)\n",
    "fig, ax = plt.subplots(figsize=(10, 6))\n",
    "if num_columns > 16:\n",
    "    fig.set_size_inches(10, num_columns * 0.6)\n",
    "else:\n",
    "    fig.set_size_inches(num_columns, 6)\n",
    "\n",
    "# Create a boxplot for each column\n",
    "df_copy.boxplot(ax=ax)\n",
    "\n",
    "# Set the title and labels\n",
    "plt.title(\"Boxplot of Columns\")\n",
    "plt.xlabel(\"Columns\")\n",
    "plt.ylabel(\"Values\")\n",
    "\n",
    "# Rotate the x-axis labels for better readability (optional)\n",
    "plt.xticks(rotation=90)\n",
    "\n",
    "# Show the plot\n",
    "plt.show()\n",
    "\n"
   ]
  },
  {
   "cell_type": "markdown",
   "metadata": {},
   "source": [
    "**No outliers found in any columns**"
   ]
  },
  {
   "cell_type": "markdown",
   "metadata": {},
   "source": [
    "\n",
    "### Feature Encoding\n",
    "**Converting the categorical columns to numerical columns. I have done one hot encoding as there are less categorical columns**"
   ]
  },
  {
   "cell_type": "code",
   "execution_count": 23,
   "metadata": {},
   "outputs": [],
   "source": [
    "df_copy = pd.get_dummies(df_copy, columns=['Gender', 'Location'], drop_first=True)\n",
    "df_copy = df_copy * 1"
   ]
  },
  {
   "cell_type": "code",
   "execution_count": 24,
   "metadata": {},
   "outputs": [
    {
     "data": {
      "text/html": [
       "<div>\n",
       "<style scoped>\n",
       "    .dataframe tbody tr th:only-of-type {\n",
       "        vertical-align: middle;\n",
       "    }\n",
       "\n",
       "    .dataframe tbody tr th {\n",
       "        vertical-align: top;\n",
       "    }\n",
       "\n",
       "    .dataframe thead th {\n",
       "        text-align: right;\n",
       "    }\n",
       "</style>\n",
       "<table border=\"1\" class=\"dataframe\">\n",
       "  <thead>\n",
       "    <tr style=\"text-align: right;\">\n",
       "      <th></th>\n",
       "      <th>Age</th>\n",
       "      <th>Subscription_Length_Months</th>\n",
       "      <th>Monthly_Bill</th>\n",
       "      <th>Total_Usage_GB</th>\n",
       "      <th>Churn</th>\n",
       "      <th>Gender_Male</th>\n",
       "      <th>Location_Houston</th>\n",
       "      <th>Location_Los Angeles</th>\n",
       "      <th>Location_Miami</th>\n",
       "      <th>Location_New York</th>\n",
       "    </tr>\n",
       "  </thead>\n",
       "  <tbody>\n",
       "    <tr>\n",
       "      <th>0</th>\n",
       "      <td>63</td>\n",
       "      <td>17</td>\n",
       "      <td>73.36</td>\n",
       "      <td>236</td>\n",
       "      <td>0</td>\n",
       "      <td>1</td>\n",
       "      <td>0</td>\n",
       "      <td>1</td>\n",
       "      <td>0</td>\n",
       "      <td>0</td>\n",
       "    </tr>\n",
       "    <tr>\n",
       "      <th>1</th>\n",
       "      <td>62</td>\n",
       "      <td>1</td>\n",
       "      <td>48.76</td>\n",
       "      <td>172</td>\n",
       "      <td>0</td>\n",
       "      <td>0</td>\n",
       "      <td>0</td>\n",
       "      <td>0</td>\n",
       "      <td>0</td>\n",
       "      <td>1</td>\n",
       "    </tr>\n",
       "    <tr>\n",
       "      <th>2</th>\n",
       "      <td>24</td>\n",
       "      <td>5</td>\n",
       "      <td>85.47</td>\n",
       "      <td>460</td>\n",
       "      <td>0</td>\n",
       "      <td>0</td>\n",
       "      <td>0</td>\n",
       "      <td>1</td>\n",
       "      <td>0</td>\n",
       "      <td>0</td>\n",
       "    </tr>\n",
       "    <tr>\n",
       "      <th>3</th>\n",
       "      <td>36</td>\n",
       "      <td>3</td>\n",
       "      <td>97.94</td>\n",
       "      <td>297</td>\n",
       "      <td>1</td>\n",
       "      <td>0</td>\n",
       "      <td>0</td>\n",
       "      <td>0</td>\n",
       "      <td>1</td>\n",
       "      <td>0</td>\n",
       "    </tr>\n",
       "    <tr>\n",
       "      <th>4</th>\n",
       "      <td>46</td>\n",
       "      <td>19</td>\n",
       "      <td>58.14</td>\n",
       "      <td>266</td>\n",
       "      <td>0</td>\n",
       "      <td>0</td>\n",
       "      <td>0</td>\n",
       "      <td>0</td>\n",
       "      <td>1</td>\n",
       "      <td>0</td>\n",
       "    </tr>\n",
       "  </tbody>\n",
       "</table>\n",
       "</div>"
      ],
      "text/plain": [
       "   Age  Subscription_Length_Months  Monthly_Bill  Total_Usage_GB  Churn  \\\n",
       "0   63                          17         73.36             236      0   \n",
       "1   62                           1         48.76             172      0   \n",
       "2   24                           5         85.47             460      0   \n",
       "3   36                           3         97.94             297      1   \n",
       "4   46                          19         58.14             266      0   \n",
       "\n",
       "   Gender_Male  Location_Houston  Location_Los Angeles  Location_Miami  \\\n",
       "0            1                 0                     1               0   \n",
       "1            0                 0                     0               0   \n",
       "2            0                 0                     1               0   \n",
       "3            0                 0                     0               1   \n",
       "4            0                 0                     0               1   \n",
       "\n",
       "   Location_New York  \n",
       "0                  0  \n",
       "1                  1  \n",
       "2                  0  \n",
       "3                  0  \n",
       "4                  0  "
      ]
     },
     "execution_count": 24,
     "metadata": {},
     "output_type": "execute_result"
    }
   ],
   "source": [
    "df_copy.head()"
   ]
  },
  {
   "cell_type": "code",
   "execution_count": 25,
   "metadata": {},
   "outputs": [
    {
     "name": "stdout",
     "output_type": "stream",
     "text": [
      "<class 'pandas.core.frame.DataFrame'>\n",
      "RangeIndex: 100000 entries, 0 to 99999\n",
      "Data columns (total 10 columns):\n",
      " #   Column                      Non-Null Count   Dtype  \n",
      "---  ------                      --------------   -----  \n",
      " 0   Age                         100000 non-null  int64  \n",
      " 1   Subscription_Length_Months  100000 non-null  int64  \n",
      " 2   Monthly_Bill                100000 non-null  float64\n",
      " 3   Total_Usage_GB              100000 non-null  int64  \n",
      " 4   Churn                       100000 non-null  int64  \n",
      " 5   Gender_Male                 100000 non-null  int32  \n",
      " 6   Location_Houston            100000 non-null  int32  \n",
      " 7   Location_Los Angeles        100000 non-null  int32  \n",
      " 8   Location_Miami              100000 non-null  int32  \n",
      " 9   Location_New York           100000 non-null  int32  \n",
      "dtypes: float64(1), int32(5), int64(4)\n",
      "memory usage: 5.7 MB\n"
     ]
    }
   ],
   "source": [
    "\n",
    "df_copy.info()"
   ]
  },
  {
   "cell_type": "markdown",
   "metadata": {},
   "source": [
    "### Dividing data into train and test set"
   ]
  },
  {
   "cell_type": "code",
   "execution_count": 26,
   "metadata": {},
   "outputs": [],
   "source": [
    "X = df_copy.drop(\"Churn\",axis=1)\n",
    "y = df_copy['Churn']"
   ]
  },
  {
   "cell_type": "code",
   "execution_count": 28,
   "metadata": {},
   "outputs": [],
   "source": [
    "X_train, X_test, y_train, y_test = train_test_split(X, y, test_size=0.3, random_state=20)"
   ]
  },
  {
   "cell_type": "code",
   "execution_count": 29,
   "metadata": {},
   "outputs": [
    {
     "data": {
      "text/plain": [
       "((70000, 9), (70000,))"
      ]
     },
     "execution_count": 29,
     "metadata": {},
     "output_type": "execute_result"
    }
   ],
   "source": [
    "X_train.shape, y_train.shape"
   ]
  },
  {
   "cell_type": "code",
   "execution_count": 30,
   "metadata": {},
   "outputs": [
    {
     "data": {
      "text/plain": [
       "((30000, 9), (30000,))"
      ]
     },
     "execution_count": 30,
     "metadata": {},
     "output_type": "execute_result"
    }
   ],
   "source": [
    "X_test.shape, y_test.shape"
   ]
  },
  {
   "cell_type": "markdown",
   "metadata": {},
   "source": [
    "**Dividing the dataset into train and test with 70:30 ratio**"
   ]
  },
  {
   "cell_type": "markdown",
   "metadata": {},
   "source": [
    "## Feature Scaling\n",
    "\n",
    "- Feature scaling will make sure that all the features are on same scale.\n",
    "- Feature scaling is important because it ensures that no single feature dominates the learning process. This is because many machine learning algorithms use distance-based calculations, and if features are on different scales, those with larger values could disproportionately influence the results. \n",
    "- Feature scaling also helps to improve the convergence of gradient-based optimization algorithms, which can lead to faster training.\n"
   ]
  },
  {
   "cell_type": "code",
   "execution_count": 31,
   "metadata": {},
   "outputs": [
    {
     "data": {
      "text/html": [
       "<div>\n",
       "<style scoped>\n",
       "    .dataframe tbody tr th:only-of-type {\n",
       "        vertical-align: middle;\n",
       "    }\n",
       "\n",
       "    .dataframe tbody tr th {\n",
       "        vertical-align: top;\n",
       "    }\n",
       "\n",
       "    .dataframe thead th {\n",
       "        text-align: right;\n",
       "    }\n",
       "</style>\n",
       "<table border=\"1\" class=\"dataframe\">\n",
       "  <thead>\n",
       "    <tr style=\"text-align: right;\">\n",
       "      <th></th>\n",
       "      <th>Age</th>\n",
       "      <th>Subscription_Length_Months</th>\n",
       "      <th>Monthly_Bill</th>\n",
       "      <th>Total_Usage_GB</th>\n",
       "      <th>Churn</th>\n",
       "      <th>Gender_Male</th>\n",
       "      <th>Location_Houston</th>\n",
       "      <th>Location_Los Angeles</th>\n",
       "      <th>Location_Miami</th>\n",
       "      <th>Location_New York</th>\n",
       "    </tr>\n",
       "  </thead>\n",
       "  <tbody>\n",
       "    <tr>\n",
       "      <th>0</th>\n",
       "      <td>63</td>\n",
       "      <td>17</td>\n",
       "      <td>73.36</td>\n",
       "      <td>236</td>\n",
       "      <td>0</td>\n",
       "      <td>1</td>\n",
       "      <td>0</td>\n",
       "      <td>1</td>\n",
       "      <td>0</td>\n",
       "      <td>0</td>\n",
       "    </tr>\n",
       "    <tr>\n",
       "      <th>1</th>\n",
       "      <td>62</td>\n",
       "      <td>1</td>\n",
       "      <td>48.76</td>\n",
       "      <td>172</td>\n",
       "      <td>0</td>\n",
       "      <td>0</td>\n",
       "      <td>0</td>\n",
       "      <td>0</td>\n",
       "      <td>0</td>\n",
       "      <td>1</td>\n",
       "    </tr>\n",
       "    <tr>\n",
       "      <th>2</th>\n",
       "      <td>24</td>\n",
       "      <td>5</td>\n",
       "      <td>85.47</td>\n",
       "      <td>460</td>\n",
       "      <td>0</td>\n",
       "      <td>0</td>\n",
       "      <td>0</td>\n",
       "      <td>1</td>\n",
       "      <td>0</td>\n",
       "      <td>0</td>\n",
       "    </tr>\n",
       "    <tr>\n",
       "      <th>3</th>\n",
       "      <td>36</td>\n",
       "      <td>3</td>\n",
       "      <td>97.94</td>\n",
       "      <td>297</td>\n",
       "      <td>1</td>\n",
       "      <td>0</td>\n",
       "      <td>0</td>\n",
       "      <td>0</td>\n",
       "      <td>1</td>\n",
       "      <td>0</td>\n",
       "    </tr>\n",
       "    <tr>\n",
       "      <th>4</th>\n",
       "      <td>46</td>\n",
       "      <td>19</td>\n",
       "      <td>58.14</td>\n",
       "      <td>266</td>\n",
       "      <td>0</td>\n",
       "      <td>0</td>\n",
       "      <td>0</td>\n",
       "      <td>0</td>\n",
       "      <td>1</td>\n",
       "      <td>0</td>\n",
       "    </tr>\n",
       "  </tbody>\n",
       "</table>\n",
       "</div>"
      ],
      "text/plain": [
       "   Age  Subscription_Length_Months  Monthly_Bill  Total_Usage_GB  Churn  \\\n",
       "0   63                          17         73.36             236      0   \n",
       "1   62                           1         48.76             172      0   \n",
       "2   24                           5         85.47             460      0   \n",
       "3   36                           3         97.94             297      1   \n",
       "4   46                          19         58.14             266      0   \n",
       "\n",
       "   Gender_Male  Location_Houston  Location_Los Angeles  Location_Miami  \\\n",
       "0            1                 0                     1               0   \n",
       "1            0                 0                     0               0   \n",
       "2            0                 0                     1               0   \n",
       "3            0                 0                     0               1   \n",
       "4            0                 0                     0               1   \n",
       "\n",
       "   Location_New York  \n",
       "0                  0  \n",
       "1                  1  \n",
       "2                  0  \n",
       "3                  0  \n",
       "4                  0  "
      ]
     },
     "execution_count": 31,
     "metadata": {},
     "output_type": "execute_result"
    }
   ],
   "source": [
    "df_copy.head()"
   ]
  },
  {
   "cell_type": "markdown",
   "metadata": {},
   "source": [
    "**We are going to apply feature scaling on ['Age', 'Subscription_Length_Months', 'Monthly_Bill', 'Total_Usage_GB'] as rest of the feature have binary value**"
   ]
  },
  {
   "cell_type": "code",
   "execution_count": 33,
   "metadata": {},
   "outputs": [],
   "source": [
    "\n",
    "columns_to_scale = ['Age', 'Subscription_Length_Months', 'Monthly_Bill', 'Total_Usage_GB']\n",
    "\n",
    "scaler = MinMaxScaler()\n",
    "\n",
    "X_train[columns_to_scale] = scaler.fit_transform(X_train[columns_to_scale])\n",
    "\n",
    "X_test[columns_to_scale] = scaler.transform(X_test[columns_to_scale])"
   ]
  },
  {
   "cell_type": "markdown",
   "metadata": {},
   "source": [
    "- Training Data: We use the .fit_transform() method on the training data to calculate scaling parameters (e.g., mean and standard deviation) and then apply the transformation. This ensures that the training data is properly scaled based on its own statistics.\n",
    "\n",
    "- Test Data: We use the .transform() method on the test data, and it applies the same scaling parameters learned from the training data. This is important because we want to maintain consistency in the scaling process between the training and testing data. Using the same scaling parameters ensures that the test data is scaled in the same way as the training data, which is crucial for model evaluation and prediction."
   ]
  },
  {
   "cell_type": "code",
   "execution_count": 34,
   "metadata": {},
   "outputs": [
    {
     "data": {
      "text/html": [
       "<div>\n",
       "<style scoped>\n",
       "    .dataframe tbody tr th:only-of-type {\n",
       "        vertical-align: middle;\n",
       "    }\n",
       "\n",
       "    .dataframe tbody tr th {\n",
       "        vertical-align: top;\n",
       "    }\n",
       "\n",
       "    .dataframe thead th {\n",
       "        text-align: right;\n",
       "    }\n",
       "</style>\n",
       "<table border=\"1\" class=\"dataframe\">\n",
       "  <thead>\n",
       "    <tr style=\"text-align: right;\">\n",
       "      <th></th>\n",
       "      <th>Age</th>\n",
       "      <th>Subscription_Length_Months</th>\n",
       "      <th>Monthly_Bill</th>\n",
       "      <th>Total_Usage_GB</th>\n",
       "      <th>Gender_Male</th>\n",
       "      <th>Location_Houston</th>\n",
       "      <th>Location_Los Angeles</th>\n",
       "      <th>Location_Miami</th>\n",
       "      <th>Location_New York</th>\n",
       "    </tr>\n",
       "  </thead>\n",
       "  <tbody>\n",
       "    <tr>\n",
       "      <th>67881</th>\n",
       "      <td>0.750000</td>\n",
       "      <td>0.739130</td>\n",
       "      <td>0.269143</td>\n",
       "      <td>0.760000</td>\n",
       "      <td>0</td>\n",
       "      <td>1</td>\n",
       "      <td>0</td>\n",
       "      <td>0</td>\n",
       "      <td>0</td>\n",
       "    </tr>\n",
       "    <tr>\n",
       "      <th>71068</th>\n",
       "      <td>0.903846</td>\n",
       "      <td>0.217391</td>\n",
       "      <td>0.586286</td>\n",
       "      <td>0.260000</td>\n",
       "      <td>1</td>\n",
       "      <td>0</td>\n",
       "      <td>0</td>\n",
       "      <td>1</td>\n",
       "      <td>0</td>\n",
       "    </tr>\n",
       "    <tr>\n",
       "      <th>40625</th>\n",
       "      <td>0.865385</td>\n",
       "      <td>0.956522</td>\n",
       "      <td>0.849286</td>\n",
       "      <td>0.384444</td>\n",
       "      <td>0</td>\n",
       "      <td>0</td>\n",
       "      <td>1</td>\n",
       "      <td>0</td>\n",
       "      <td>0</td>\n",
       "    </tr>\n",
       "    <tr>\n",
       "      <th>83684</th>\n",
       "      <td>1.000000</td>\n",
       "      <td>0.695652</td>\n",
       "      <td>0.514714</td>\n",
       "      <td>0.917778</td>\n",
       "      <td>1</td>\n",
       "      <td>0</td>\n",
       "      <td>1</td>\n",
       "      <td>0</td>\n",
       "      <td>0</td>\n",
       "    </tr>\n",
       "    <tr>\n",
       "      <th>47710</th>\n",
       "      <td>0.096154</td>\n",
       "      <td>0.043478</td>\n",
       "      <td>0.370286</td>\n",
       "      <td>0.791111</td>\n",
       "      <td>1</td>\n",
       "      <td>0</td>\n",
       "      <td>1</td>\n",
       "      <td>0</td>\n",
       "      <td>0</td>\n",
       "    </tr>\n",
       "  </tbody>\n",
       "</table>\n",
       "</div>"
      ],
      "text/plain": [
       "            Age  Subscription_Length_Months  Monthly_Bill  Total_Usage_GB  \\\n",
       "67881  0.750000                    0.739130      0.269143        0.760000   \n",
       "71068  0.903846                    0.217391      0.586286        0.260000   \n",
       "40625  0.865385                    0.956522      0.849286        0.384444   \n",
       "83684  1.000000                    0.695652      0.514714        0.917778   \n",
       "47710  0.096154                    0.043478      0.370286        0.791111   \n",
       "\n",
       "       Gender_Male  Location_Houston  Location_Los Angeles  Location_Miami  \\\n",
       "67881            0                 1                     0               0   \n",
       "71068            1                 0                     0               1   \n",
       "40625            0                 0                     1               0   \n",
       "83684            1                 0                     1               0   \n",
       "47710            1                 0                     1               0   \n",
       "\n",
       "       Location_New York  \n",
       "67881                  0  \n",
       "71068                  0  \n",
       "40625                  0  \n",
       "83684                  0  \n",
       "47710                  0  "
      ]
     },
     "execution_count": 34,
     "metadata": {},
     "output_type": "execute_result"
    }
   ],
   "source": [
    "X_train.head()"
   ]
  },
  {
   "cell_type": "code",
   "execution_count": 35,
   "metadata": {},
   "outputs": [
    {
     "data": {
      "text/html": [
       "<div>\n",
       "<style scoped>\n",
       "    .dataframe tbody tr th:only-of-type {\n",
       "        vertical-align: middle;\n",
       "    }\n",
       "\n",
       "    .dataframe tbody tr th {\n",
       "        vertical-align: top;\n",
       "    }\n",
       "\n",
       "    .dataframe thead th {\n",
       "        text-align: right;\n",
       "    }\n",
       "</style>\n",
       "<table border=\"1\" class=\"dataframe\">\n",
       "  <thead>\n",
       "    <tr style=\"text-align: right;\">\n",
       "      <th></th>\n",
       "      <th>Age</th>\n",
       "      <th>Subscription_Length_Months</th>\n",
       "      <th>Monthly_Bill</th>\n",
       "      <th>Total_Usage_GB</th>\n",
       "      <th>Gender_Male</th>\n",
       "      <th>Location_Houston</th>\n",
       "      <th>Location_Los Angeles</th>\n",
       "      <th>Location_Miami</th>\n",
       "      <th>Location_New York</th>\n",
       "    </tr>\n",
       "  </thead>\n",
       "  <tbody>\n",
       "    <tr>\n",
       "      <th>45218</th>\n",
       "      <td>0.057692</td>\n",
       "      <td>0.869565</td>\n",
       "      <td>0.731857</td>\n",
       "      <td>0.946667</td>\n",
       "      <td>0</td>\n",
       "      <td>0</td>\n",
       "      <td>0</td>\n",
       "      <td>1</td>\n",
       "      <td>0</td>\n",
       "    </tr>\n",
       "    <tr>\n",
       "      <th>74763</th>\n",
       "      <td>0.769231</td>\n",
       "      <td>0.304348</td>\n",
       "      <td>0.919571</td>\n",
       "      <td>0.288889</td>\n",
       "      <td>1</td>\n",
       "      <td>0</td>\n",
       "      <td>0</td>\n",
       "      <td>0</td>\n",
       "      <td>0</td>\n",
       "    </tr>\n",
       "    <tr>\n",
       "      <th>43778</th>\n",
       "      <td>0.480769</td>\n",
       "      <td>0.043478</td>\n",
       "      <td>0.992286</td>\n",
       "      <td>0.053333</td>\n",
       "      <td>1</td>\n",
       "      <td>0</td>\n",
       "      <td>0</td>\n",
       "      <td>0</td>\n",
       "      <td>1</td>\n",
       "    </tr>\n",
       "    <tr>\n",
       "      <th>75551</th>\n",
       "      <td>0.576923</td>\n",
       "      <td>0.434783</td>\n",
       "      <td>0.362857</td>\n",
       "      <td>0.211111</td>\n",
       "      <td>0</td>\n",
       "      <td>0</td>\n",
       "      <td>0</td>\n",
       "      <td>0</td>\n",
       "      <td>0</td>\n",
       "    </tr>\n",
       "    <tr>\n",
       "      <th>10086</th>\n",
       "      <td>0.923077</td>\n",
       "      <td>0.608696</td>\n",
       "      <td>0.454000</td>\n",
       "      <td>0.662222</td>\n",
       "      <td>0</td>\n",
       "      <td>0</td>\n",
       "      <td>1</td>\n",
       "      <td>0</td>\n",
       "      <td>0</td>\n",
       "    </tr>\n",
       "  </tbody>\n",
       "</table>\n",
       "</div>"
      ],
      "text/plain": [
       "            Age  Subscription_Length_Months  Monthly_Bill  Total_Usage_GB  \\\n",
       "45218  0.057692                    0.869565      0.731857        0.946667   \n",
       "74763  0.769231                    0.304348      0.919571        0.288889   \n",
       "43778  0.480769                    0.043478      0.992286        0.053333   \n",
       "75551  0.576923                    0.434783      0.362857        0.211111   \n",
       "10086  0.923077                    0.608696      0.454000        0.662222   \n",
       "\n",
       "       Gender_Male  Location_Houston  Location_Los Angeles  Location_Miami  \\\n",
       "45218            0                 0                     0               1   \n",
       "74763            1                 0                     0               0   \n",
       "43778            1                 0                     0               0   \n",
       "75551            0                 0                     0               0   \n",
       "10086            0                 0                     1               0   \n",
       "\n",
       "       Location_New York  \n",
       "45218                  0  \n",
       "74763                  0  \n",
       "43778                  1  \n",
       "75551                  0  \n",
       "10086                  0  "
      ]
     },
     "execution_count": 35,
     "metadata": {},
     "output_type": "execute_result"
    }
   ],
   "source": [
    "X_test.head()"
   ]
  },
  {
   "cell_type": "code",
   "execution_count": null,
   "metadata": {},
   "outputs": [],
   "source": []
  },
  {
   "cell_type": "markdown",
   "metadata": {},
   "source": [
    "### Model Building "
   ]
  },
  {
   "cell_type": "code",
   "execution_count": 44,
   "metadata": {},
   "outputs": [],
   "source": [
    "## Creating function to train and evaluate\n",
    "def train_and_evaluate_model(model, X_train, y_train, X_test, y_test):\n",
    "    start_time = time.time()  # Start timer\n",
    "\n",
    "    model.fit(X_train, y_train)\n",
    "    y_train_pred = model.predict(X_train)\n",
    "    y_test_pred = model.predict(X_test)\n",
    "\n",
    "    accuracy_train = accuracy_score(y_train, y_train_pred)\n",
    "    precision_train = precision_score(y_train, y_train_pred, average='weighted')\n",
    "    recall_train = recall_score(y_train, y_train_pred, average='weighted')\n",
    "    f1_train = f1_score(y_train, y_train_pred, average='weighted')\n",
    "\n",
    "    accuracy_test = accuracy_score(y_test, y_test_pred)\n",
    "    precision_test = precision_score(y_test, y_test_pred, average='weighted')\n",
    "    recall_test = recall_score(y_test, y_test_pred, average='weighted')\n",
    "    f1_test = f1_score(y_test, y_test_pred, average='weighted')\n",
    "\n",
    "    end_time = time.time()  # End timer\n",
    "    building_time = end_time - start_time\n",
    "\n",
    "    return {\n",
    "        'Algorithm': type(model).__name__,\n",
    "        'Accuracy (Train)': accuracy_train,\n",
    "        'Precision (Train)': precision_train,\n",
    "        'Recall (Train)': recall_train,\n",
    "        'F1-score (Train)': f1_train,\n",
    "        'Accuracy (Test)': accuracy_test,\n",
    "        'Precision (Test)': precision_test,\n",
    "        'Recall (Test)': recall_test,\n",
    "        'F1-score (Test)': f1_test,\n",
    "        'Building Time (s)': building_time\n",
    "    }"
   ]
  },
  {
   "cell_type": "code",
   "execution_count": 45,
   "metadata": {},
   "outputs": [
    {
     "name": "stdout",
     "output_type": "stream",
     "text": [
      "Training and Test Results:\n",
      "                Algorithm  Accuracy (Train)  Precision (Train)  \\\n",
      "0      LogisticRegression          0.505086           0.504915   \n",
      "1  DecisionTreeClassifier          1.000000           1.000000   \n",
      "2    KNeighborsClassifier          0.688171           0.688170   \n",
      "3      AdaBoostClassifier          0.512943           0.513000   \n",
      "4  RandomForestClassifier          1.000000           1.000000   \n",
      "5           XGBClassifier          0.669857           0.669931   \n",
      "\n",
      "   Recall (Train)  F1-score (Train)  Accuracy (Test)  Precision (Test)  \\\n",
      "0        0.505086          0.497456         0.503900          0.503429   \n",
      "1        1.000000          1.000000         0.500367          0.500390   \n",
      "2        0.688171          0.688166         0.500500          0.500497   \n",
      "3        0.512943          0.509263         0.501033          0.500572   \n",
      "4        1.000000          1.000000         0.498333          0.498217   \n",
      "5        0.669857          0.669790         0.505467          0.505384   \n",
      "\n",
      "   Recall (Test)  F1-score (Test)  Building Time (s)  \n",
      "0       0.503900         0.497391           1.849408  \n",
      "1       0.500367         0.500370           0.765906  \n",
      "2       0.500500         0.500498           5.834868  \n",
      "3       0.501033         0.497399           2.515143  \n",
      "4       0.498333         0.498085           3.193057  \n",
      "5       0.505467         0.505308           0.744157  \n"
     ]
    }
   ],
   "source": [
    "# Define a dictionary of algorithms with their names and hyperparameters\n",
    "algorithms = {\n",
    "    'LogisticRegression': LogisticRegression(n_jobs=-1, random_state=20),\n",
    "    'DecisionTreeClassifier': DecisionTreeClassifier(random_state=20),\n",
    "    'KNeighborsClassifier': KNeighborsClassifier(n_jobs=-1),\n",
    "    'AdaBoostClassifier': AdaBoostClassifier(random_state=20),\n",
    "    'RandomForestClassifier': RandomForestClassifier(n_jobs=-1, random_state=20),\n",
    "    'XGBClassifier': XGBClassifier(n_jobs=-1, random_state=20),\n",
    "}\n",
    "\n",
    "results = []\n",
    "\n",
    "# Iterate through algorithms and train/evaluate models\n",
    "for algorithm_name, algorithm in algorithms.items():\n",
    "    result = train_and_evaluate_model(algorithm, X_train, y_train, X_test, y_test)\n",
    "    results.append(result)\n",
    "\n",
    "# Create DataFrames for training and test results\n",
    "df_train_test = pd.DataFrame(results)\n",
    "\n",
    "# Display the training and test results\n",
    "print(\"Training and Test Results:\")\n",
    "print(df_train_test)"
   ]
  },
  {
   "cell_type": "markdown",
   "metadata": {},
   "source": [
    "- The DecisionTreeClassifier and RandomForestClassifier achieved perfect accuracy (100%) on the training data, indicating that they may have overfit the data.\n",
    "\n",
    "- The KNeighborsClassifier and XGBClassifier achieved reasonable accuracy and F1-scores while having relatively lower building times. These models could be good candidates for further evaluation.\n",
    "\n",
    "- LogisticRegression and AdaBoostClassifier had lower accuracy and F1-scores, and AdaBoostClassifier had a longer building time."
   ]
  },
  {
   "cell_type": "markdown",
   "metadata": {},
   "source": [
    "### Modeling Building with PCA\n",
    "\n",
    " **PCA allows us to reduce the number of features (dimensions) in your dataset while retaining as much of the original variance as possible.**"
   ]
  },
  {
   "cell_type": "code",
   "execution_count": 36,
   "metadata": {},
   "outputs": [],
   "source": [
    "pca = PCA()\n",
    "X_train_pca = pca.fit_transform(X_train)"
   ]
  },
  {
   "cell_type": "code",
   "execution_count": 37,
   "metadata": {},
   "outputs": [
    {
     "data": {
      "text/plain": [
       "(70000, 9)"
      ]
     },
     "execution_count": 37,
     "metadata": {},
     "output_type": "execute_result"
    }
   ],
   "source": [
    "X_train_pca.shape"
   ]
  },
  {
   "cell_type": "code",
   "execution_count": 38,
   "metadata": {},
   "outputs": [
    {
     "data": {
      "image/png": "[encoded data removed]",
      "text/plain": [
       "<Figure size 1000x600 with 1 Axes>"
      ]
     },
     "metadata": {},
     "output_type": "display_data"
    }
   ],
   "source": [
    "# Calculate the explained variance ratio\n",
    "explained_variance_ratio = pca.explained_variance_ratio_\n",
    "\n",
    "# Calculate the cumulative explained variance ratio\n",
    "cumulative_variance_ratio = np.cumsum(explained_variance_ratio)\n",
    "\n",
    "# Plot the scree plot\n",
    "plt.figure(figsize=(10, 6))\n",
    "plt.plot(range(1, len(cumulative_variance_ratio) + 1), cumulative_variance_ratio, marker='o')\n",
    "plt.title('Scree Plot')\n",
    "plt.xlabel('Number of Principal Components')\n",
    "plt.ylabel('Cumulative Explained Variance Ratio')\n",
    "plt.grid()\n",
    "plt.show()\n",
    "\n"
   ]
  },
  {
   "cell_type": "markdown",
   "metadata": {},
   "source": [
    "\n",
    "\n",
    "**8 out of 9 principal components (PCs) capture approximately 98% of the variance of the data. Therefore, I will select 8 PCs for further analysis.**\n"
   ]
  },
  {
   "cell_type": "code",
   "execution_count": 47,
   "metadata": {},
   "outputs": [
    {
     "data": {
      "text/plain": [
       "((70000, 8), (30000, 8))"
      ]
     },
     "execution_count": 47,
     "metadata": {},
     "output_type": "execute_result"
    }
   ],
   "source": [
    "pca = PCA(n_components=8)  \n",
    "X_train_pca = pca.fit_transform(X_train)\n",
    "X_test_pca = pca.transform(X_test)\n",
    "X_train_pca.shape, X_test_pca.shape\n"
   ]
  },
  {
   "cell_type": "code",
   "execution_count": 50,
   "metadata": {},
   "outputs": [
    {
     "name": "stdout",
     "output_type": "stream",
     "text": [
      "Training and Test Results:\n",
      "                Algorithm  Accuracy (Train)  Precision (Train)  \\\n",
      "0      LogisticRegression          0.503457           0.503173   \n",
      "1  DecisionTreeClassifier          1.000000           1.000000   \n",
      "2    KNeighborsClassifier          0.688214           0.688213   \n",
      "3      AdaBoostClassifier          0.517514           0.517468   \n",
      "4  RandomForestClassifier          1.000000           1.000000   \n",
      "5           XGBClassifier          0.684657           0.684731   \n",
      "\n",
      "   Recall (Train)  F1-score (Train)  Accuracy (Test)  Precision (Test)  \\\n",
      "0        0.503457          0.493289         0.501733          0.501047   \n",
      "1        1.000000          1.000000         0.495933          0.495984   \n",
      "2        0.688214          0.688209         0.500567          0.500563   \n",
      "3        0.517514          0.516930         0.499200          0.498997   \n",
      "4        1.000000          1.000000         0.500133          0.500060   \n",
      "5        0.684657          0.684599         0.503567          0.503493   \n",
      "\n",
      "   Recall (Test)  F1-score (Test)  Building Time (s)  \n",
      "0       0.501733         0.492661           1.255970  \n",
      "1       0.495933         0.495920           5.297618  \n",
      "2       0.500567         0.500565           2.815649  \n",
      "3       0.499200         0.498516           8.270764  \n",
      "4       0.500133         0.500017          10.843241  \n",
      "5       0.503567         0.503441           0.488617  \n"
     ]
    }
   ],
   "source": [
    "# Define a dictionary of algorithms with their names and hyperparameters\n",
    "algorithms = {\n",
    "    'LogisticRegression': LogisticRegression(n_jobs=-1, random_state=20),\n",
    "    'DecisionTreeClassifier': DecisionTreeClassifier(random_state=20),\n",
    "    'KNeighborsClassifier': KNeighborsClassifier(n_jobs=-1),\n",
    "    'AdaBoostClassifier': AdaBoostClassifier(random_state=20),\n",
    "    'RandomForestClassifier': RandomForestClassifier(n_jobs=-1, random_state=20),\n",
    "    'XGBClassifier': XGBClassifier(n_jobs=-1, random_state=20),\n",
    "}\n",
    "\n",
    "results = []\n",
    "\n",
    "# Iterate through algorithms and train/evaluate models\n",
    "for algorithm_name, algorithm in algorithms.items():\n",
    "    result = train_and_evaluate_model(algorithm, X_train_pca, y_train, X_test_pca, y_test)\n",
    "    results.append(result)\n",
    "\n",
    "# Create DataFrames for training and test results\n",
    "df_train_test_pca = pd.DataFrame(results)\n",
    "\n",
    "# Display the training and test results\n",
    "print(\"Training and Test Results:\")\n",
    "print(df_train_test_pca)"
   ]
  },
  {
   "cell_type": "code",
   "execution_count": 49,
   "metadata": {},
   "outputs": [
    {
     "data": {
      "text/html": [
       "<div>\n",
       "<style scoped>\n",
       "    .dataframe tbody tr th:only-of-type {\n",
       "        vertical-align: middle;\n",
       "    }\n",
       "\n",
       "    .dataframe tbody tr th {\n",
       "        vertical-align: top;\n",
       "    }\n",
       "\n",
       "    .dataframe thead th {\n",
       "        text-align: right;\n",
       "    }\n",
       "</style>\n",
       "<table border=\"1\" class=\"dataframe\">\n",
       "  <thead>\n",
       "    <tr style=\"text-align: right;\">\n",
       "      <th></th>\n",
       "      <th>Algorithm</th>\n",
       "      <th>Accuracy</th>\n",
       "      <th>Precision</th>\n",
       "      <th>Recall</th>\n",
       "      <th>F1-score</th>\n",
       "      <th>Building Time (s)</th>\n",
       "    </tr>\n",
       "  </thead>\n",
       "  <tbody>\n",
       "    <tr>\n",
       "      <th>0</th>\n",
       "      <td>LogisticRegression</td>\n",
       "      <td>0.503457</td>\n",
       "      <td>0.502153</td>\n",
       "      <td>0.361298</td>\n",
       "      <td>0.420236</td>\n",
       "      <td>1.176233</td>\n",
       "    </tr>\n",
       "    <tr>\n",
       "      <th>1</th>\n",
       "      <td>DecisionTreeClassifier</td>\n",
       "      <td>1.000000</td>\n",
       "      <td>1.000000</td>\n",
       "      <td>1.000000</td>\n",
       "      <td>1.000000</td>\n",
       "      <td>5.186875</td>\n",
       "    </tr>\n",
       "    <tr>\n",
       "      <th>2</th>\n",
       "      <td>KNeighborsClassifier</td>\n",
       "      <td>0.688214</td>\n",
       "      <td>0.688035</td>\n",
       "      <td>0.684306</td>\n",
       "      <td>0.686165</td>\n",
       "      <td>1.969668</td>\n",
       "    </tr>\n",
       "    <tr>\n",
       "      <th>3</th>\n",
       "      <td>AdaBoostClassifier</td>\n",
       "      <td>0.517514</td>\n",
       "      <td>0.516768</td>\n",
       "      <td>0.482619</td>\n",
       "      <td>0.499110</td>\n",
       "      <td>8.292743</td>\n",
       "    </tr>\n",
       "    <tr>\n",
       "      <th>4</th>\n",
       "      <td>RandomForestClassifier</td>\n",
       "      <td>1.000000</td>\n",
       "      <td>1.000000</td>\n",
       "      <td>1.000000</td>\n",
       "      <td>1.000000</td>\n",
       "      <td>10.474436</td>\n",
       "    </tr>\n",
       "    <tr>\n",
       "      <th>5</th>\n",
       "      <td>XGBClassifier</td>\n",
       "      <td>0.684657</td>\n",
       "      <td>0.687875</td>\n",
       "      <td>0.671657</td>\n",
       "      <td>0.679669</td>\n",
       "      <td>0.366546</td>\n",
       "    </tr>\n",
       "  </tbody>\n",
       "</table>\n",
       "</div>"
      ],
      "text/plain": [
       "                Algorithm  Accuracy  Precision    Recall  F1-score  \\\n",
       "0      LogisticRegression  0.503457   0.502153  0.361298  0.420236   \n",
       "1  DecisionTreeClassifier  1.000000   1.000000  1.000000  1.000000   \n",
       "2    KNeighborsClassifier  0.688214   0.688035  0.684306  0.686165   \n",
       "3      AdaBoostClassifier  0.517514   0.516768  0.482619  0.499110   \n",
       "4  RandomForestClassifier  1.000000   1.000000  1.000000  1.000000   \n",
       "5           XGBClassifier  0.684657   0.687875  0.671657  0.679669   \n",
       "\n",
       "   Building Time (s)  \n",
       "0           1.176233  \n",
       "1           5.186875  \n",
       "2           1.969668  \n",
       "3           8.292743  \n",
       "4          10.474436  \n",
       "5           0.366546  "
      ]
     },
     "execution_count": 49,
     "metadata": {},
     "output_type": "execute_result"
    }
   ],
   "source": [
    "df_train"
   ]
  },
  {
   "cell_type": "code",
   "execution_count": null,
   "metadata": {},
   "outputs": [],
   "source": []
  },
  {
   "cell_type": "markdown",
   "metadata": {},
   "source": [
    "- The DecisionTreeClassifier and RandomForestClassifier are still overfitting.\n",
    "\n",
    "- There is not much change even after dimension reduction so we will go with 9 features and use xgboostclassifer as it was best performing"
   ]
  },
  {
   "cell_type": "markdown",
   "metadata": {},
   "source": [
    "## Final Model : XGBoost Classifier"
   ]
  },
  {
   "cell_type": "code",
   "execution_count": 59,
   "metadata": {},
   "outputs": [
    {
     "data": {
      "text/html": [
       "<div>\n",
       "<style scoped>\n",
       "    .dataframe tbody tr th:only-of-type {\n",
       "        vertical-align: middle;\n",
       "    }\n",
       "\n",
       "    .dataframe tbody tr th {\n",
       "        vertical-align: top;\n",
       "    }\n",
       "\n",
       "    .dataframe thead th {\n",
       "        text-align: right;\n",
       "    }\n",
       "</style>\n",
       "<table border=\"1\" class=\"dataframe\">\n",
       "  <thead>\n",
       "    <tr style=\"text-align: right;\">\n",
       "      <th></th>\n",
       "      <th>Metric</th>\n",
       "      <th>Train</th>\n",
       "      <th>Test</th>\n",
       "    </tr>\n",
       "  </thead>\n",
       "  <tbody>\n",
       "    <tr>\n",
       "      <th>0</th>\n",
       "      <td>Accuracy</td>\n",
       "      <td>0.669857</td>\n",
       "      <td>0.505467</td>\n",
       "    </tr>\n",
       "    <tr>\n",
       "      <th>1</th>\n",
       "      <td>Precision</td>\n",
       "      <td>0.672913</td>\n",
       "      <td>0.502663</td>\n",
       "    </tr>\n",
       "    <tr>\n",
       "      <th>2</th>\n",
       "      <td>Recall</td>\n",
       "      <td>0.656083</td>\n",
       "      <td>0.487226</td>\n",
       "    </tr>\n",
       "    <tr>\n",
       "      <th>3</th>\n",
       "      <td>F1-Score</td>\n",
       "      <td>0.664392</td>\n",
       "      <td>0.494824</td>\n",
       "    </tr>\n",
       "  </tbody>\n",
       "</table>\n",
       "</div>"
      ],
      "text/plain": [
       "      Metric     Train      Test\n",
       "0   Accuracy  0.669857  0.505467\n",
       "1  Precision  0.672913  0.502663\n",
       "2     Recall  0.656083  0.487226\n",
       "3   F1-Score  0.664392  0.494824"
      ]
     },
     "execution_count": 59,
     "metadata": {},
     "output_type": "execute_result"
    }
   ],
   "source": [
    "xgb_classifier = XGBClassifier(\n",
    "    objective='binary:logistic',  # For binary classification\n",
    "    random_state=20              # Random seed for reproducibility\n",
    ")\n",
    "\n",
    "# Train (fit) the model\n",
    "xgb_classifier.fit(X_train, y_train)\n",
    "\n",
    "\n",
    "y_train_pred = xgb_classifier.predict(X_train)\n",
    "y_test_pred = xgb_classifier.predict(X_test)\n",
    "\n",
    "# Calculate metrics for train set\n",
    "train_accuracy = accuracy_score(y_train, y_train_pred)\n",
    "train_precision = precision_score(y_train, y_train_pred)\n",
    "train_recall = recall_score(y_train, y_train_pred)\n",
    "train_f1 = f1_score(y_train, y_train_pred)\n",
    "\n",
    "# Calculate metrics for test set\n",
    "test_accuracy = accuracy_score(y_test, y_test_pred)\n",
    "test_precision = precision_score(y_test, y_test_pred)\n",
    "test_recall = recall_score(y_test, y_test_pred)\n",
    "test_f1 = f1_score(y_test, y_test_pred)\n",
    "\n",
    "# Create a DataFrame to store the results\n",
    "results = pd.DataFrame({\n",
    "    'Metric': ['Accuracy', 'Precision', 'Recall', 'F1-Score'],\n",
    "    'Train': [train_accuracy, train_precision, train_recall, train_f1],\n",
    "    'Test': [test_accuracy, test_precision, test_recall, test_f1]\n",
    "})\n",
    "\n",
    "results\n",
    "\n"
   ]
  },
  {
   "cell_type": "markdown",
   "metadata": {},
   "source": [
    "**we saw its performance without hyperparameter tunning so I would like to do hyperparameter tunning using Optuna**"
   ]
  },
  {
   "cell_type": "markdown",
   "metadata": {},
   "source": [
    "#### Hyperparameter Tunning (Optuna )"
   ]
  },
  {
   "cell_type": "code",
   "execution_count": 58,
   "metadata": {},
   "outputs": [
    {
     "name": "stderr",
     "output_type": "stream",
     "text": [
      "[I 2023-09-28 11:18:53,628] A new study created in memory with name: no-name-83070685-ce87-4f97-9762-1b9dac73423a\n",
      "[I 2023-09-28 11:19:07,840] Trial 0 finished with value: -0.4968819151076242 and parameters: {'learning_rate': 0.29088904977135543, 'max_depth': 21, 'n_estimators': 700}. Best is trial 0 with value: -0.4968819151076242.\n",
      "[I 2023-09-28 11:19:10,104] Trial 1 finished with value: -0.48823174411587206 and parameters: {'learning_rate': 0.2454997288743533, 'max_depth': 14, 'n_estimators': 100}. Best is trial 0 with value: -0.4968819151076242.\n",
      "[I 2023-09-28 11:19:12,891] Trial 2 finished with value: -0.49145041239187287 and parameters: {'learning_rate': 0.07891199978752313, 'max_depth': 15, 'n_estimators': 100}. Best is trial 0 with value: -0.4968819151076242.\n",
      "[I 2023-09-28 11:19:29,817] Trial 3 finished with value: -0.496077248038624 and parameters: {'learning_rate': 0.23657125871780468, 'max_depth': 34, 'n_estimators': 700}. Best is trial 0 with value: -0.4968819151076242.\n",
      "[I 2023-09-28 11:19:41,627] Trial 4 finished with value: -0.49198685710453965 and parameters: {'learning_rate': 0.0941579245070185, 'max_depth': 29, 'n_estimators': 200}. Best is trial 0 with value: -0.4968819151076242.\n",
      "[I 2023-09-28 11:19:47,526] Trial 5 finished with value: -0.4927915241735399 and parameters: {'learning_rate': 0.1535869517092666, 'max_depth': 15, 'n_estimators': 300}. Best is trial 0 with value: -0.4968819151076242.\n",
      "[I 2023-09-28 11:19:55,772] Trial 6 finished with value: -0.4976865821766244 and parameters: {'learning_rate': 0.15289085710601655, 'max_depth': 18, 'n_estimators': 300}. Best is trial 6 with value: -0.4976865821766244.\n",
      "[I 2023-09-28 11:20:15,322] Trial 7 finished with value: -0.4913833568027895 and parameters: {'learning_rate': 0.045057700493050766, 'max_depth': 21, 'n_estimators': 500}. Best is trial 6 with value: -0.4976865821766244.\n",
      "[I 2023-09-28 11:20:19,469] Trial 8 finished with value: -0.4894387447193724 and parameters: {'learning_rate': 0.16219646975854274, 'max_depth': 9, 'n_estimators': 500}. Best is trial 6 with value: -0.4976865821766244.\n",
      "[I 2023-09-28 11:20:26,213] Trial 9 finished with value: -0.4876282438141219 and parameters: {'learning_rate': 0.1673677768759321, 'max_depth': 27, 'n_estimators': 100}. Best is trial 6 with value: -0.4976865821766244.\n",
      "[I 2023-09-28 11:21:37,739] Trial 10 finished with value: -0.4924562462281231 and parameters: {'learning_rate': 0.011434118130421861, 'max_depth': 39, 'n_estimators': 1000}. Best is trial 6 with value: -0.4976865821766244.\n",
      "[I 2023-09-28 11:21:39,428] Trial 11 finished with value: -0.4968819151076242 and parameters: {'learning_rate': 0.29740814682059186, 'max_depth': 4, 'n_estimators': 800}. Best is trial 6 with value: -0.4976865821766244.\n",
      "[I 2023-09-28 11:21:45,630] Trial 12 finished with value: -0.49896063836920806 and parameters: {'learning_rate': 0.29315441981351115, 'max_depth': 22, 'n_estimators': 400}. Best is trial 12 with value: -0.49896063836920806.\n",
      "[I 2023-09-28 11:21:53,638] Trial 13 finished with value: -0.4959431368604573 and parameters: {'learning_rate': 0.19897164953059002, 'max_depth': 25, 'n_estimators': 400}. Best is trial 12 with value: -0.49896063836920806.\n",
      "[I 2023-09-28 11:21:59,185] Trial 14 finished with value: -0.49373030242070676 and parameters: {'learning_rate': 0.12316836511923936, 'max_depth': 18, 'n_estimators': 300}. Best is trial 12 with value: -0.49896063836920806.\n",
      "[I 2023-09-28 11:22:01,224] Trial 15 finished with value: -0.48809763293770536 and parameters: {'learning_rate': 0.20506658411245843, 'max_depth': 9, 'n_estimators': 400}. Best is trial 12 with value: -0.49896063836920806.\n",
      "[I 2023-09-28 11:22:10,395] Trial 16 finished with value: -0.49701602628579095 and parameters: {'learning_rate': 0.12466107505305561, 'max_depth': 29, 'n_estimators': 300}. Best is trial 12 with value: -0.49896063836920806.\n",
      "[I 2023-09-28 11:22:18,781] Trial 17 finished with value: -0.4979548045329578 and parameters: {'learning_rate': 0.2540421657575216, 'max_depth': 23, 'n_estimators': 600}. Best is trial 12 with value: -0.49896063836920806.\n",
      "[I 2023-09-28 11:22:29,453] Trial 18 finished with value: -0.4950043586132904 and parameters: {'learning_rate': 0.27157626578833366, 'max_depth': 35, 'n_estimators': 600}. Best is trial 12 with value: -0.49896063836920806.\n",
      "[I 2023-09-28 11:22:40,714] Trial 19 finished with value: -0.49694897069670757 and parameters: {'learning_rate': 0.2623930248117266, 'max_depth': 24, 'n_estimators': 1000}. Best is trial 12 with value: -0.49896063836920806.\n",
      "[I 2023-09-28 11:22:52,679] Trial 20 finished with value: -0.4903104673774559 and parameters: {'learning_rate': 0.2999383551464051, 'max_depth': 33, 'n_estimators': 800}. Best is trial 12 with value: -0.49896063836920806.\n",
      "[I 2023-09-28 11:22:58,904] Trial 21 finished with value: -0.49567491450412393 and parameters: {'learning_rate': 0.23323394693650829, 'max_depth': 19, 'n_estimators': 400}. Best is trial 12 with value: -0.49896063836920806.\n",
      "[I 2023-09-28 11:23:07,721] Trial 22 finished with value: -0.49533963655870716 and parameters: {'learning_rate': 0.26581943908695993, 'max_depth': 24, 'n_estimators': 600}. Best is trial 12 with value: -0.49896063836920806.\n",
      "[I 2023-09-28 11:23:11,147] Trial 23 finished with value: -0.49694897069670757 and parameters: {'learning_rate': 0.21228337554067592, 'max_depth': 11, 'n_estimators': 500}. Best is trial 12 with value: -0.49896063836920806.\n",
      "[I 2023-09-28 11:23:14,951] Trial 24 finished with value: -0.4951384697914571 and parameters: {'learning_rate': 0.18463745524693187, 'max_depth': 17, 'n_estimators': 200}. Best is trial 12 with value: -0.49896063836920806.\n",
      "[I 2023-09-28 11:23:22,603] Trial 25 finished with value: -0.4904445785556226 and parameters: {'learning_rate': 0.22273322975388382, 'max_depth': 22, 'n_estimators': 400}. Best is trial 12 with value: -0.49896063836920806.\n",
      "[I 2023-09-28 11:23:24,993] Trial 26 finished with value: -0.4940655803661235 and parameters: {'learning_rate': 0.24907756479160867, 'max_depth': 13, 'n_estimators': 200}. Best is trial 12 with value: -0.49896063836920806.\n",
      "[I 2023-09-28 11:23:35,792] Trial 27 finished with value: -0.4930597465298733 and parameters: {'learning_rate': 0.27606357020620964, 'max_depth': 29, 'n_estimators': 700}. Best is trial 12 with value: -0.49896063836920806.\n",
      "[I 2023-09-28 11:23:43,693] Trial 28 finished with value: -0.494534969489707 and parameters: {'learning_rate': 0.22399415227783875, 'max_depth': 19, 'n_estimators': 600}. Best is trial 12 with value: -0.49896063836920806.\n",
      "[I 2023-09-28 11:23:53,275] Trial 29 finished with value: -0.49721719305304096 and parameters: {'learning_rate': 0.28607219065250195, 'max_depth': 22, 'n_estimators': 800}. Best is trial 12 with value: -0.49896063836920806.\n",
      "[I 2023-09-28 11:24:00,659] Trial 30 finished with value: -0.4928585797626232 and parameters: {'learning_rate': 0.25713300172626313, 'max_depth': 26, 'n_estimators': 300}. Best is trial 12 with value: -0.49896063836920806.\n",
      "[I 2023-09-28 11:24:10,669] Trial 31 finished with value: -0.49426674713337354 and parameters: {'learning_rate': 0.2863526923037357, 'max_depth': 21, 'n_estimators': 900}. Best is trial 12 with value: -0.49896063836920806.\n",
      "[I 2023-09-28 11:24:20,748] Trial 32 finished with value: -0.498558304834708 and parameters: {'learning_rate': 0.2835208348062867, 'max_depth': 23, 'n_estimators': 800}. Best is trial 12 with value: -0.49896063836920806.\n",
      "[I 2023-09-28 11:24:28,575] Trial 33 finished with value: -0.4932609132971233 and parameters: {'learning_rate': 0.24728487523851042, 'max_depth': 17, 'n_estimators': 700}. Best is trial 12 with value: -0.49896063836920806.\n",
      "[I 2023-09-28 11:24:36,713] Trial 34 finished with value: -0.49533963655870716 and parameters: {'learning_rate': 0.2796471076711175, 'max_depth': 23, 'n_estimators': 500}. Best is trial 12 with value: -0.49896063836920806.\n",
      "[I 2023-09-28 11:24:49,409] Trial 35 finished with value: -0.4950043586132904 and parameters: {'learning_rate': 0.24114911208971496, 'max_depth': 27, 'n_estimators': 900}. Best is trial 12 with value: -0.49896063836920806.\n",
      "[I 2023-09-28 11:25:00,475] Trial 36 finished with value: -0.4944679139006236 and parameters: {'learning_rate': 0.2986502403516148, 'max_depth': 31, 'n_estimators': 700}. Best is trial 12 with value: -0.49896063836920806.\n",
      "[I 2023-09-28 11:25:10,831] Trial 37 finished with value: -0.49379735800979013 and parameters: {'learning_rate': 0.2720941160539252, 'max_depth': 20, 'n_estimators': 900}. Best is trial 12 with value: -0.49896063836920806.\n",
      "[I 2023-09-28 11:25:16,181] Trial 38 finished with value: -0.4929926909407899 and parameters: {'learning_rate': 0.25716408172385724, 'max_depth': 15, 'n_estimators': 400}. Best is trial 12 with value: -0.49896063836920806.\n",
      "[I 2023-09-28 11:25:18,730] Trial 39 finished with value: -0.49252330181720644 and parameters: {'learning_rate': 0.23445013159676728, 'max_depth': 16, 'n_estimators': 100}. Best is trial 12 with value: -0.49896063836920806.\n",
      "[I 2023-09-28 11:25:25,036] Trial 40 finished with value: -0.4944008583115403 and parameters: {'learning_rate': 0.2761057894964774, 'max_depth': 13, 'n_estimators': 600}. Best is trial 12 with value: -0.49896063836920806.\n",
      "[I 2023-09-28 11:25:36,369] Trial 41 finished with value: -0.494736136256957 and parameters: {'learning_rate': 0.28447009876404006, 'max_depth': 22, 'n_estimators': 800}. Best is trial 12 with value: -0.49896063836920806.\n",
      "[I 2023-09-28 11:25:48,026] Trial 42 finished with value: -0.49889358278012474 and parameters: {'learning_rate': 0.28872878294204607, 'max_depth': 20, 'n_estimators': 800}. Best is trial 12 with value: -0.49896063836920806.\n",
      "[I 2023-09-28 11:25:57,115] Trial 43 finished with value: -0.4968148595185409 and parameters: {'learning_rate': 0.28977218795031895, 'max_depth': 20, 'n_estimators': 500}. Best is trial 12 with value: -0.49896063836920806.\n",
      "[I 2023-09-28 11:26:10,650] Trial 44 finished with value: -0.49004224502112254 and parameters: {'learning_rate': 0.25875431128363696, 'max_depth': 24, 'n_estimators': 800}. Best is trial 12 with value: -0.49896063836920806.\n",
      "[I 2023-09-28 11:26:17,410] Trial 45 finished with value: -0.49399852477704015 and parameters: {'learning_rate': 0.29791367255244966, 'max_depth': 26, 'n_estimators': 200}. Best is trial 12 with value: -0.49896063836920806.\n",
      "[I 2023-09-28 11:26:19,726] Trial 46 finished with value: -0.4885670220612888 and parameters: {'learning_rate': 0.2479691754871364, 'max_depth': 3, 'n_estimators': 700}. Best is trial 12 with value: -0.49896063836920806.\n",
      "[I 2023-09-28 11:26:28,912] Trial 47 finished with value: -0.4968148595185409 and parameters: {'learning_rate': 0.2662733697685919, 'max_depth': 28, 'n_estimators': 300}. Best is trial 12 with value: -0.49896063836920806.\n",
      "[I 2023-09-28 11:26:38,261] Trial 48 finished with value: -0.49560785891504056 and parameters: {'learning_rate': 0.2834779118129982, 'max_depth': 18, 'n_estimators': 900}. Best is trial 12 with value: -0.49896063836920806.\n",
      "[I 2023-09-28 11:26:51,934] Trial 49 finished with value: -0.4894387447193724 and parameters: {'learning_rate': 0.14906714646425356, 'max_depth': 21, 'n_estimators': 1000}. Best is trial 12 with value: -0.49896063836920806.\n",
      "[I 2023-09-28 11:26:57,772] Trial 50 finished with value: -0.49393146918795683 and parameters: {'learning_rate': 0.1884894146054224, 'max_depth': 14, 'n_estimators': 500}. Best is trial 12 with value: -0.49896063836920806.\n",
      "[I 2023-09-28 11:27:08,272] Trial 51 finished with value: -0.4979548045329578 and parameters: {'learning_rate': 0.28345851115735676, 'max_depth': 23, 'n_estimators': 800}. Best is trial 12 with value: -0.49896063836920806.\n",
      "[I 2023-09-28 11:27:19,360] Trial 52 finished with value: -0.49601019244954064 and parameters: {'learning_rate': 0.2720104214461676, 'max_depth': 25, 'n_estimators': 800}. Best is trial 12 with value: -0.49896063836920806.\n",
      "[I 2023-09-28 11:27:29,379] Trial 53 finished with value: -0.4944008583115403 and parameters: {'learning_rate': 0.2926786921438623, 'max_depth': 23, 'n_estimators': 700}. Best is trial 12 with value: -0.49896063836920806.\n",
      "[I 2023-09-28 11:27:39,674] Trial 54 finished with value: -0.4908469120901227 and parameters: {'learning_rate': 0.26598823851896575, 'max_depth': 20, 'n_estimators': 900}. Best is trial 12 with value: -0.49896063836920806.\n",
      "[I 2023-09-28 11:27:44,916] Trial 55 finished with value: -0.49741835982029103 and parameters: {'learning_rate': 0.2894239296778594, 'max_depth': 18, 'n_estimators': 300}. Best is trial 12 with value: -0.49896063836920806.\n",
      "[I 2023-09-28 11:27:55,758] Trial 56 finished with value: -0.4924562462281231 and parameters: {'learning_rate': 0.2545027484715388, 'max_depth': 23, 'n_estimators': 800}. Best is trial 12 with value: -0.49896063836920806.\n",
      "[I 2023-09-28 11:28:06,611] Trial 57 finished with value: -0.49386441359887345 and parameters: {'learning_rate': 0.27647281765913756, 'max_depth': 30, 'n_estimators': 600}. Best is trial 12 with value: -0.49896063836920806.\n",
      "[I 2023-09-28 11:28:14,637] Trial 58 finished with value: -0.4916515791591229 and parameters: {'learning_rate': 0.2995603680213079, 'max_depth': 26, 'n_estimators': 400}. Best is trial 12 with value: -0.49896063836920806.\n",
      "[I 2023-09-28 11:28:15,571] Trial 59 finished with value: -0.4860189096761215 and parameters: {'learning_rate': 0.259982726349281, 'max_depth': 7, 'n_estimators': 200}. Best is trial 12 with value: -0.49896063836920806.\n",
      "[I 2023-09-28 11:28:26,417] Trial 60 finished with value: -0.49393146918795683 and parameters: {'learning_rate': 0.23979999553200013, 'max_depth': 19, 'n_estimators': 1000}. Best is trial 12 with value: -0.49896063836920806.\n",
      "[I 2023-09-28 11:28:31,370] Trial 61 finished with value: -0.4925903574062898 and parameters: {'learning_rate': 0.29317152944959907, 'max_depth': 17, 'n_estimators': 300}. Best is trial 12 with value: -0.49896063836920806.\n",
      "[I 2023-09-28 11:28:36,832] Trial 62 finished with value: -0.49507141420237377 and parameters: {'learning_rate': 0.2834508133487013, 'max_depth': 18, 'n_estimators': 300}. Best is trial 12 with value: -0.49896063836920806.\n",
      "[I 2023-09-28 11:28:44,620] Trial 63 finished with value: -0.49527258096962384 and parameters: {'learning_rate': 0.27076774675161236, 'max_depth': 21, 'n_estimators': 300}. Best is trial 12 with value: -0.49896063836920806.\n",
      "[I 2023-09-28 11:28:51,265] Trial 64 finished with value: -0.49755247099845773 and parameters: {'learning_rate': 0.28759904091464844, 'max_depth': 16, 'n_estimators': 400}. Best is trial 12 with value: -0.49896063836920806.\n",
      "[I 2023-09-28 11:29:04,098] Trial 65 finished with value: -0.49540669214779054 and parameters: {'learning_rate': 0.2812637614166599, 'max_depth': 40, 'n_estimators': 400}. Best is trial 12 with value: -0.49896063836920806.\n",
      "[I 2023-09-28 11:29:09,198] Trial 66 finished with value: -0.49332796888620667 and parameters: {'learning_rate': 0.26614759006812455, 'max_depth': 12, 'n_estimators': 500}. Best is trial 12 with value: -0.49896063836920806.\n",
      "[I 2023-09-28 11:29:16,007] Trial 67 finished with value: -0.49694897069670757 and parameters: {'learning_rate': 0.25189394887292144, 'max_depth': 16, 'n_estimators': 400}. Best is trial 12 with value: -0.49896063836920806.\n",
      "[I 2023-09-28 11:29:26,836] Trial 68 finished with value: -0.49520552538054047 and parameters: {'learning_rate': 0.2897133807178668, 'max_depth': 24, 'n_estimators': 600}. Best is trial 12 with value: -0.49896063836920806.\n",
      "[I 2023-09-28 11:29:37,970] Trial 69 finished with value: -0.4966136927512908 and parameters: {'learning_rate': 0.27768932417230435, 'max_depth': 25, 'n_estimators': 700}. Best is trial 12 with value: -0.49896063836920806.\n",
      "[I 2023-09-28 11:29:40,942] Trial 70 finished with value: -0.49587608127137395 and parameters: {'learning_rate': 0.22706541642186856, 'max_depth': 10, 'n_estimators': 400}. Best is trial 12 with value: -0.49896063836920806.\n",
      "[I 2023-09-28 11:29:46,666] Trial 71 finished with value: -0.4941996915442902 and parameters: {'learning_rate': 0.29065778940385106, 'max_depth': 19, 'n_estimators': 300}. Best is trial 12 with value: -0.49896063836920806.\n",
      "[I 2023-09-28 11:29:50,455] Trial 72 finished with value: -0.4995641386709582 and parameters: {'learning_rate': 0.29923903819286607, 'max_depth': 16, 'n_estimators': 200}. Best is trial 72 with value: -0.4995641386709582.\n",
      "[I 2023-09-28 11:29:52,832] Trial 73 finished with value: -0.49943002749279153 and parameters: {'learning_rate': 0.2994790285372271, 'max_depth': 16, 'n_estimators': 100}. Best is trial 72 with value: -0.4995641386709582.\n",
      "[I 2023-09-28 11:29:54,718] Trial 74 finished with value: -0.4998323610272916 and parameters: {'learning_rate': 0.2989304495798786, 'max_depth': 14, 'n_estimators': 100}. Best is trial 74 with value: -0.4998323610272916.\n",
      "[I 2023-09-28 11:29:56,507] Trial 75 finished with value: -0.4946690806678737 and parameters: {'learning_rate': 0.2938162714201696, 'max_depth': 14, 'n_estimators': 100}. Best is trial 74 with value: -0.4998323610272916.\n",
      "[I 2023-09-28 11:29:58,555] Trial 76 finished with value: -0.49721719305304096 and parameters: {'learning_rate': 0.29792290205439087, 'max_depth': 15, 'n_estimators': 100}. Best is trial 74 with value: -0.4998323610272916.\n",
      "[I 2023-09-28 11:30:02,544] Trial 77 finished with value: -0.4981559713002079 and parameters: {'learning_rate': 0.28063541371592254, 'max_depth': 22, 'n_estimators': 100}. Best is trial 74 with value: -0.4998323610272916.\n",
      "[I 2023-09-28 11:30:03,897] Trial 78 finished with value: -0.49178569033728964 and parameters: {'learning_rate': 0.27442121197876207, 'max_depth': 12, 'n_estimators': 100}. Best is trial 74 with value: -0.4998323610272916.\n",
      "[I 2023-09-28 11:30:07,157] Trial 79 finished with value: -0.4943338027224569 and parameters: {'learning_rate': 0.2638682241953043, 'max_depth': 20, 'n_estimators': 100}. Best is trial 74 with value: -0.4998323610272916.\n",
      "[I 2023-09-28 11:30:08,188] Trial 80 finished with value: -0.488030577348622 and parameters: {'learning_rate': 0.2985024994474175, 'max_depth': 7, 'n_estimators': 200}. Best is trial 74 with value: -0.4998323610272916.\n",
      "[I 2023-09-28 11:30:11,971] Trial 81 finished with value: -0.49004224502112254 and parameters: {'learning_rate': 0.28053277048968184, 'max_depth': 21, 'n_estimators': 100}. Best is trial 74 with value: -0.4998323610272916.\n",
      "[I 2023-09-28 11:30:17,967] Trial 82 finished with value: -0.49708308187487427 and parameters: {'learning_rate': 0.27974282102132036, 'max_depth': 23, 'n_estimators': 200}. Best is trial 74 with value: -0.4998323610272916.\n",
      "[I 2023-09-28 11:30:21,825] Trial 83 finished with value: -0.49755247099845773 and parameters: {'learning_rate': 0.28531093454416, 'max_depth': 22, 'n_estimators': 100}. Best is trial 74 with value: -0.4998323610272916.\n",
      "[I 2023-09-28 11:30:25,969] Trial 84 finished with value: -0.49413263595520684 and parameters: {'learning_rate': 0.2717295529274457, 'max_depth': 17, 'n_estimators': 200}. Best is trial 74 with value: -0.4998323610272916.\n",
      "[I 2023-09-28 11:30:30,482] Trial 85 finished with value: -0.502581640179709 and parameters: {'learning_rate': 0.29148082426954464, 'max_depth': 25, 'n_estimators': 100}. Best is trial 85 with value: -0.502581640179709.\n",
      "[I 2023-09-28 11:30:35,490] Trial 86 finished with value: -0.498558304834708 and parameters: {'learning_rate': 0.29104041541169073, 'max_depth': 27, 'n_estimators': 100}. Best is trial 85 with value: -0.502581640179709.\n",
      "[I 2023-09-28 11:30:40,526] Trial 87 finished with value: -0.4981559713002079 and parameters: {'learning_rate': 0.2934020001176728, 'max_depth': 28, 'n_estimators': 100}. Best is trial 85 with value: -0.502581640179709.\n",
      "[I 2023-09-28 11:30:45,420] Trial 88 finished with value: -0.4940655803661235 and parameters: {'learning_rate': 0.2990902953149867, 'max_depth': 27, 'n_estimators': 100}. Best is trial 85 with value: -0.502581640179709.\n",
      "[I 2023-09-28 11:30:52,676] Trial 89 finished with value: -0.49547374773687386 and parameters: {'learning_rate': 0.28865190444391203, 'max_depth': 31, 'n_estimators': 200}. Best is trial 85 with value: -0.502581640179709.\n",
      "[I 2023-09-28 11:30:57,297] Trial 90 finished with value: -0.494534969489707 and parameters: {'learning_rate': 0.2704178756145806, 'max_depth': 25, 'n_estimators': 100}. Best is trial 85 with value: -0.502581640179709.\n",
      "[I 2023-09-28 11:31:02,478] Trial 91 finished with value: -0.49225507946087305 and parameters: {'learning_rate': 0.292821198187078, 'max_depth': 29, 'n_estimators': 100}. Best is trial 85 with value: -0.502581640179709.\n",
      "[I 2023-09-28 11:31:07,354] Trial 92 finished with value: -0.4979548045329578 and parameters: {'learning_rate': 0.2998986433137815, 'max_depth': 27, 'n_estimators': 100}. Best is trial 85 with value: -0.502581640179709.\n",
      "[I 2023-09-28 11:31:12,326] Trial 93 finished with value: -0.4943338027224569 and parameters: {'learning_rate': 0.29237242719777823, 'max_depth': 28, 'n_estimators': 100}. Best is trial 85 with value: -0.502581640179709.\n",
      "[I 2023-09-28 11:31:20,238] Trial 94 finished with value: -0.4965466371622075 and parameters: {'learning_rate': 0.27815606009750615, 'max_depth': 35, 'n_estimators': 200}. Best is trial 85 with value: -0.502581640179709.\n",
      "[I 2023-09-28 11:31:25,379] Trial 95 finished with value: -0.4963454703949574 and parameters: {'learning_rate': 0.2848379323800429, 'max_depth': 28, 'n_estimators': 100}. Best is trial 85 with value: -0.502581640179709.\n",
      "[I 2023-09-28 11:31:30,245] Trial 96 finished with value: -0.4921880238717897 and parameters: {'learning_rate': 0.26353178711751585, 'max_depth': 26, 'n_estimators': 100}. Best is trial 85 with value: -0.502581640179709.\n",
      "[I 2023-09-28 11:31:33,708] Trial 97 finished with value: -0.496077248038624 and parameters: {'learning_rate': 0.2906313569310149, 'max_depth': 15, 'n_estimators': 200}. Best is trial 85 with value: -0.502581640179709.\n",
      "[I 2023-09-28 11:31:41,177] Trial 98 finished with value: -0.4946020250787903 and parameters: {'learning_rate': 0.2779876234662759, 'max_depth': 33, 'n_estimators': 200}. Best is trial 85 with value: -0.502581640179709.\n",
      "[I 2023-09-28 11:31:45,256] Trial 99 finished with value: -0.494736136256957 and parameters: {'learning_rate': 0.29424091341844755, 'max_depth': 24, 'n_estimators': 100}. Best is trial 85 with value: -0.502581640179709.\n"
     ]
    },
    {
     "name": "stdout",
     "output_type": "stream",
     "text": [
      "Best Hyperparameters:\n",
      "Learning Rate: 0.29148082426954464\n",
      "Max Depth: 25\n",
      "Number of Estimators: 100\n",
      "Final Test Recall: 0.5026\n"
     ]
    }
   ],
   "source": [
    "def objective(trial):\n",
    "    params = {\n",
    "        'objective': 'binary:logistic',\n",
    "        'eval_metric': 'logloss',\n",
    "        'booster': 'gbtree',\n",
    "        'verbosity': 0,\n",
    "        'n_jobs': -1,\n",
    "        'random_state': 20,\n",
    "        'learning_rate': trial.suggest_float('learning_rate', 0.01, 0.3),\n",
    "        'max_depth': trial.suggest_int('max_depth', 3, 40),\n",
    "        'n_estimators': trial.suggest_int('n_estimators', 100, 1000, step=100),\n",
    "    }\n",
    "\n",
    "    # Create an XGBoost classifier with the suggested hyperparameters\n",
    "    model = XGBClassifier(**params)\n",
    "\n",
    "    # Train the model on the training data\n",
    "    model.fit(X_train, y_train)\n",
    "\n",
    "    # Make predictions on the test data\n",
    "    y_pred = model.predict(X_test)\n",
    "\n",
    "    # Calculate negative recall as the metric to optimize (maximize recall)\n",
    "    recall = recall_score(y_test, y_pred)\n",
    "    negative_recall = -recall  # Negative value to maximize recall\n",
    "\n",
    "    return negative_recall\n",
    "\n",
    "# Create an Optuna study\n",
    "study = optuna.create_study(direction='minimize')\n",
    "\n",
    "# Run the optimization for a specified number of trials\n",
    "study.optimize(objective, n_trials=100)\n",
    "\n",
    "# Get the best hyperparameters\n",
    "best_params = study.best_params\n",
    "best_learning_rate = best_params['learning_rate']\n",
    "best_max_depth = best_params['max_depth']\n",
    "best_n_estimators = best_params['n_estimators']\n",
    "\n",
    "# Train the final XGBoost model using the best hyperparameters\n",
    "final_model = XGBClassifier(\n",
    "    objective='binary:logistic',\n",
    "    eval_metric='logloss',\n",
    "    booster='gbtree',\n",
    "    verbosity=0,\n",
    "    n_jobs=-1,\n",
    "    random_state=20,\n",
    "    learning_rate=best_learning_rate,\n",
    "    max_depth=best_max_depth,\n",
    "    n_estimators=best_n_estimators\n",
    ")\n",
    "\n",
    "final_model.fit(X_train, y_train)\n",
    "\n",
    "# Evaluate the final model on the test data\n",
    "y_pred_final = final_model.predict(X_test)\n",
    "final_recall = recall_score(y_test, y_pred_final)\n",
    "\n",
    "print(\"Best Hyperparameters:\")\n",
    "print(f\"Learning Rate: {best_learning_rate}\")\n",
    "print(f\"Max Depth: {best_max_depth}\")\n",
    "print(f\"Number of Estimators: {best_n_estimators}\")\n",
    "print(f\"Final Test Recall: {final_recall:.4f}\")"
   ]
  },
  {
   "cell_type": "markdown",
   "metadata": {},
   "source": [
    "\n",
    "\n",
    "**After hyperparameter tuning, the performance of the model did not improve. Hence, I choose XGBoost CLassifier without hyperparameter tunning and perform cross-validation on it.**"
   ]
  },
  {
   "cell_type": "code",
   "execution_count": 60,
   "metadata": {},
   "outputs": [
    {
     "data": {
      "text/html": [
       "<div>\n",
       "<style scoped>\n",
       "    .dataframe tbody tr th:only-of-type {\n",
       "        vertical-align: middle;\n",
       "    }\n",
       "\n",
       "    .dataframe tbody tr th {\n",
       "        vertical-align: top;\n",
       "    }\n",
       "\n",
       "    .dataframe thead th {\n",
       "        text-align: right;\n",
       "    }\n",
       "</style>\n",
       "<table border=\"1\" class=\"dataframe\">\n",
       "  <thead>\n",
       "    <tr style=\"text-align: right;\">\n",
       "      <th></th>\n",
       "      <th>Probability</th>\n",
       "      <th>Actual_Label</th>\n",
       "      <th>Predicted_Label</th>\n",
       "    </tr>\n",
       "  </thead>\n",
       "  <tbody>\n",
       "    <tr>\n",
       "      <th>4027</th>\n",
       "      <td>0.591723</td>\n",
       "      <td>0</td>\n",
       "      <td>1</td>\n",
       "    </tr>\n",
       "    <tr>\n",
       "      <th>67498</th>\n",
       "      <td>0.535739</td>\n",
       "      <td>0</td>\n",
       "      <td>1</td>\n",
       "    </tr>\n",
       "    <tr>\n",
       "      <th>61407</th>\n",
       "      <td>0.459940</td>\n",
       "      <td>1</td>\n",
       "      <td>0</td>\n",
       "    </tr>\n",
       "    <tr>\n",
       "      <th>34570</th>\n",
       "      <td>0.552889</td>\n",
       "      <td>1</td>\n",
       "      <td>1</td>\n",
       "    </tr>\n",
       "    <tr>\n",
       "      <th>35783</th>\n",
       "      <td>0.537937</td>\n",
       "      <td>0</td>\n",
       "      <td>1</td>\n",
       "    </tr>\n",
       "    <tr>\n",
       "      <th>5774</th>\n",
       "      <td>0.413053</td>\n",
       "      <td>0</td>\n",
       "      <td>0</td>\n",
       "    </tr>\n",
       "    <tr>\n",
       "      <th>24476</th>\n",
       "      <td>0.530018</td>\n",
       "      <td>1</td>\n",
       "      <td>1</td>\n",
       "    </tr>\n",
       "    <tr>\n",
       "      <th>21536</th>\n",
       "      <td>0.484019</td>\n",
       "      <td>0</td>\n",
       "      <td>0</td>\n",
       "    </tr>\n",
       "    <tr>\n",
       "      <th>62090</th>\n",
       "      <td>0.458124</td>\n",
       "      <td>1</td>\n",
       "      <td>0</td>\n",
       "    </tr>\n",
       "    <tr>\n",
       "      <th>40771</th>\n",
       "      <td>0.629054</td>\n",
       "      <td>1</td>\n",
       "      <td>1</td>\n",
       "    </tr>\n",
       "  </tbody>\n",
       "</table>\n",
       "</div>"
      ],
      "text/plain": [
       "       Probability  Actual_Label  Predicted_Label\n",
       "4027      0.591723             0                1\n",
       "67498     0.535739             0                1\n",
       "61407     0.459940             1                0\n",
       "34570     0.552889             1                1\n",
       "35783     0.537937             0                1\n",
       "5774      0.413053             0                0\n",
       "24476     0.530018             1                1\n",
       "21536     0.484019             0                0\n",
       "62090     0.458124             1                0\n",
       "40771     0.629054             1                1"
      ]
     },
     "execution_count": 60,
     "metadata": {},
     "output_type": "execute_result"
    }
   ],
   "source": [
    "\n",
    "\n",
    "#creating a dataframe of probabilities, actual labels, predicted labels for general check\n",
    "\n",
    "probabilities = xgb_classifier.predict_proba(X_train)\n",
    "\n",
    "predicted_labels = xgb_classifier.predict(X_train)\n",
    "\n",
    "results = pd.DataFrame({'Probability': probabilities[:, 1],\n",
    "                        'Actual_Label': y_train,\n",
    "                        'Predicted_Label': predicted_labels})\n",
    "\n",
    "results.sample(10)\n",
    "\n"
   ]
  },
  {
   "cell_type": "code",
   "execution_count": 61,
   "metadata": {},
   "outputs": [
    {
     "data": {
      "text/html": [
       "<div>\n",
       "<style scoped>\n",
       "    .dataframe tbody tr th:only-of-type {\n",
       "        vertical-align: middle;\n",
       "    }\n",
       "\n",
       "    .dataframe tbody tr th {\n",
       "        vertical-align: top;\n",
       "    }\n",
       "\n",
       "    .dataframe thead th {\n",
       "        text-align: right;\n",
       "    }\n",
       "</style>\n",
       "<table border=\"1\" class=\"dataframe\">\n",
       "  <thead>\n",
       "    <tr style=\"text-align: right;\">\n",
       "      <th></th>\n",
       "      <th>Probability</th>\n",
       "      <th>Accuracy</th>\n",
       "      <th>Precision</th>\n",
       "      <th>Recall</th>\n",
       "      <th>F1 Score</th>\n",
       "    </tr>\n",
       "  </thead>\n",
       "  <tbody>\n",
       "    <tr>\n",
       "      <th>0</th>\n",
       "      <td>0.1</td>\n",
       "      <td>0.498300</td>\n",
       "      <td>0.498192</td>\n",
       "      <td>1.000000</td>\n",
       "      <td>0.665058</td>\n",
       "    </tr>\n",
       "    <tr>\n",
       "      <th>1</th>\n",
       "      <td>0.2</td>\n",
       "      <td>0.501057</td>\n",
       "      <td>0.499570</td>\n",
       "      <td>0.999943</td>\n",
       "      <td>0.666272</td>\n",
       "    </tr>\n",
       "    <tr>\n",
       "      <th>2</th>\n",
       "      <td>0.3</td>\n",
       "      <td>0.518586</td>\n",
       "      <td>0.508517</td>\n",
       "      <td>0.999168</td>\n",
       "      <td>0.674006</td>\n",
       "    </tr>\n",
       "    <tr>\n",
       "      <th>3</th>\n",
       "      <td>0.4</td>\n",
       "      <td>0.581514</td>\n",
       "      <td>0.544772</td>\n",
       "      <td>0.972265</td>\n",
       "      <td>0.698286</td>\n",
       "    </tr>\n",
       "    <tr>\n",
       "      <th>4</th>\n",
       "      <td>0.5</td>\n",
       "      <td>0.669857</td>\n",
       "      <td>0.672913</td>\n",
       "      <td>0.656083</td>\n",
       "      <td>0.664392</td>\n",
       "    </tr>\n",
       "    <tr>\n",
       "      <th>5</th>\n",
       "      <td>0.6</td>\n",
       "      <td>0.582643</td>\n",
       "      <td>0.875681</td>\n",
       "      <td>0.188895</td>\n",
       "      <td>0.310756</td>\n",
       "    </tr>\n",
       "    <tr>\n",
       "      <th>6</th>\n",
       "      <td>0.7</td>\n",
       "      <td>0.521029</td>\n",
       "      <td>0.973126</td>\n",
       "      <td>0.039465</td>\n",
       "      <td>0.075854</td>\n",
       "    </tr>\n",
       "    <tr>\n",
       "      <th>7</th>\n",
       "      <td>0.8</td>\n",
       "      <td>0.504429</td>\n",
       "      <td>1.000000</td>\n",
       "      <td>0.005048</td>\n",
       "      <td>0.010045</td>\n",
       "    </tr>\n",
       "    <tr>\n",
       "      <th>8</th>\n",
       "      <td>0.9</td>\n",
       "      <td>0.502000</td>\n",
       "      <td>1.000000</td>\n",
       "      <td>0.000172</td>\n",
       "      <td>0.000344</td>\n",
       "    </tr>\n",
       "    <tr>\n",
       "      <th>9</th>\n",
       "      <td>1.0</td>\n",
       "      <td>0.501914</td>\n",
       "      <td>1.000000</td>\n",
       "      <td>0.000000</td>\n",
       "      <td>0.000000</td>\n",
       "    </tr>\n",
       "  </tbody>\n",
       "</table>\n",
       "</div>"
      ],
      "text/plain": [
       "   Probability  Accuracy  Precision    Recall  F1 Score\n",
       "0          0.1  0.498300   0.498192  1.000000  0.665058\n",
       "1          0.2  0.501057   0.499570  0.999943  0.666272\n",
       "2          0.3  0.518586   0.508517  0.999168  0.674006\n",
       "3          0.4  0.581514   0.544772  0.972265  0.698286\n",
       "4          0.5  0.669857   0.672913  0.656083  0.664392\n",
       "5          0.6  0.582643   0.875681  0.188895  0.310756\n",
       "6          0.7  0.521029   0.973126  0.039465  0.075854\n",
       "7          0.8  0.504429   1.000000  0.005048  0.010045\n",
       "8          0.9  0.502000   1.000000  0.000172  0.000344\n",
       "9          1.0  0.501914   1.000000  0.000000  0.000000"
      ]
     },
     "execution_count": 61,
     "metadata": {},
     "output_type": "execute_result"
    }
   ],
   "source": [
    "#check evaulation metrics for different thresholds\n",
    "\n",
    "thresholds = [0.1, 0.2, 0.3, 0.4, 0.5, 0.6, 0.7, 0.8, 0.9, 1.0]\n",
    "\n",
    "# Creating an empty DataFrame to store the evaluation metrics\n",
    "metrics_df = pd.DataFrame(columns=['Probability', 'Accuracy', 'Precision', 'Recall', 'F1 Score'])\n",
    "\n",
    "# Iterating over the probability thresholds\n",
    "for threshold in thresholds:\n",
    "    # Converting probabilities to predicted labels based on the threshold\n",
    "    predicted_labels = (probabilities[:, 1] >= threshold).astype(int)\n",
    "\n",
    "    # Calculating evaluation metrics\n",
    "    accuracy = accuracy_score(y_train, predicted_labels)\n",
    "    precision = precision_score(y_train, predicted_labels, zero_division=1)\n",
    "    recall = recall_score(y_train, predicted_labels, zero_division=1)\n",
    "    f1 = f1_score(y_train, predicted_labels, zero_division=1)\n",
    "\n",
    "    # Adding the metrics to the DataFrame\n",
    "    metrics_df = pd.concat([metrics_df, pd.DataFrame({'Probability': [threshold],\n",
    "                                                      'Accuracy': [accuracy],\n",
    "                                                      'Precision': [precision],\n",
    "                                                      'Recall': [recall],\n",
    "                                                      'F1 Score': [f1]})], ignore_index=True)\n",
    "metrics_df"
   ]
  },
  {
   "cell_type": "markdown",
   "metadata": {},
   "source": [
    "### Trade off between Accuracy, Sensitivity, Specitivity, F-1 Score and Probabilities (Thresholds)"
   ]
  },
  {
   "cell_type": "code",
   "execution_count": 66,
   "metadata": {},
   "outputs": [
    {
     "name": "stdout",
     "output_type": "stream",
     "text": [
      "Best Threshold: 0.44\n",
      "Best F1 Score: 0.7088\n"
     ]
    },
    {
     "data": {
      "image/png": "[encoded data removed]",
      "text/plain": [
       "<Figure size 1000x600 with 1 Axes>"
      ]
     },
     "metadata": {},
     "output_type": "display_data"
    }
   ],
   "source": [
    "# Calculate predicted probabilities for the train data\n",
    "train_probabilities = xgb_classifier.predict_proba(X_train)[:, 1]\n",
    "\n",
    "# Apply different thresholds to obtain binary predictions for train data\n",
    "thresholds = np.arange(0, 1.1, 0.01)\n",
    "\n",
    "# Initialize lists to store metric values\n",
    "sensitivity = []\n",
    "specificity = []\n",
    "accuracy = []\n",
    "f1_scores = []\n",
    "\n",
    "for threshold in thresholds:\n",
    "    train_predictions = (train_probabilities >= threshold).astype(int)\n",
    "    tn, fp, fn, tp = confusion_matrix(y_train, train_predictions).ravel()\n",
    "    \n",
    "    # Calculate metrics\n",
    "    sensitivity.append(tp / (tp + fn))\n",
    "    specificity.append(tn / (tn + fp))\n",
    "    accuracy.append((tp + tn) / (tp + tn + fp + fn))\n",
    "    f1_scores.append(f1_score(y_train, train_predictions))\n",
    "\n",
    "# Find the threshold that maximizes F1 Score\n",
    "best_threshold = thresholds[np.argmax(f1_scores)]\n",
    "best_f1_score = max(f1_scores)\n",
    "\n",
    "# Plot the trade-off curves\n",
    "plt.figure(figsize=(10, 6))\n",
    "plt.plot(thresholds, sensitivity, label='Sensitivity')\n",
    "plt.plot(thresholds, specificity, label='Specificity')\n",
    "plt.plot(thresholds, accuracy, label='Accuracy')\n",
    "plt.plot(thresholds, f1_scores, label='F1 Score')\n",
    "plt.axvline(x=best_threshold, color='red', linestyle='--', label=f'Best Threshold ({best_threshold:.2f})')\n",
    "plt.xlabel('Probability Threshold')\n",
    "plt.ylabel('Metric Value')\n",
    "plt.title('Trade-Off Between Metrics and Probability Threshold')\n",
    "plt.legend()\n",
    "plt.grid(True)\n",
    "\n",
    "# Print the best threshold and F1 Score\n",
    "print(f\"Best Threshold: {best_threshold:.2f}\")\n",
    "print(f\"Best F1 Score: {best_f1_score:.4f}\")\n",
    "\n",
    "# Show the plot\n",
    "plt.show()"
   ]
  },
  {
   "cell_type": "markdown",
   "metadata": {},
   "source": [
    "**Best threshold we got is 0.44**"
   ]
  },
  {
   "cell_type": "markdown",
   "metadata": {},
   "source": [
    "### AUC ROC Curve\n",
    "- The ROC curve plots the True Positive Rate (TPR) against the False Positive Rate (FPR) at various threshold values.\n",
    "-  the Area Under the ROC Curve (AUC-ROC) score to quantify the overall performance of the model.\n",
    "- You can find the optimal threshold by maximizing the Youden's J statistic, which is defined as (Sensitivity + Specificity - 1). The threshold that corresponds to the maximum J statistic is considered optimal."
   ]
  },
  {
   "cell_type": "code",
   "execution_count": 69,
   "metadata": {},
   "outputs": [
    {
     "data": {
      "image/png": "[encoded data removed]",
      "text/plain": [
       "<Figure size 600x400 with 1 Axes>"
      ]
     },
     "metadata": {},
     "output_type": "display_data"
    },
    {
     "name": "stdout",
     "output_type": "stream",
     "text": [
      "Best Threshold: 0.5002318\n"
     ]
    }
   ],
   "source": [
    "# Calculate predicted probabilities for the train data\n",
    "train_probabilities = xgb_classifier.predict_proba(X_train)[:, 1]\n",
    "\n",
    "# Calculate the ROC curve and AUC for train data\n",
    "fpr_train, tpr_train, thresholds_train = roc_curve(y_train, train_probabilities)\n",
    "roc_auc_train = auc(fpr_train, tpr_train)\n",
    "\n",
    "# Calculate the ROC curve and AUC for test data\n",
    "test_probabilities = xgb_classifier.predict_proba(X_test)[:, 1]\n",
    "fpr_test, tpr_test, thresholds_test = roc_curve(y_test, test_probabilities)\n",
    "roc_auc_test = auc(fpr_test, tpr_test)\n",
    "\n",
    "# Find the best threshold that maximizes Youden's J statistic\n",
    "J = tpr_train - fpr_train\n",
    "best_threshold_index = np.argmax(J)\n",
    "best_threshold = thresholds_train[best_threshold_index]\n",
    "\n",
    "# Apply the best threshold to obtain binary predictions for train and test data\n",
    "train_predictions = (train_probabilities >= best_threshold).astype(int)\n",
    "test_predictions = (test_probabilities >= best_threshold).astype(int)\n",
    "\n",
    "# Calculate the ROC-AUC score for train and test data using the best threshold\n",
    "roc_auc_train_best = roc_auc_score(y_train, train_predictions)\n",
    "roc_auc_test_best = roc_auc_score(y_test, test_predictions)\n",
    "\n",
    "# Plot the ROC curves\n",
    "plt.figure(figsize=(6, 4))\n",
    "plt.plot(fpr_train, tpr_train, label='Train ROC curve (area = {:.2f})'.format(roc_auc_train_best))\n",
    "plt.plot(fpr_test, tpr_test, label='Test ROC curve (area = {:.2f})'.format(roc_auc_test_best))\n",
    "plt.plot([0, 1], [0, 1], 'k--')\n",
    "plt.xlim([0.0, 1.0])\n",
    "plt.ylim([0.0, 1.05])\n",
    "plt.xlabel('False Positive Rate')\n",
    "plt.ylabel('True Positive Rate')\n",
    "plt.title('Receiver Operating Characteristic (ROC)')\n",
    "plt.legend(loc='lower right')\n",
    "plt.show()\n",
    "\n",
    "# Print the best threshold\n",
    "print(\"Best Threshold:\", best_threshold)"
   ]
  },
  {
   "cell_type": "markdown",
   "metadata": {},
   "source": [
    "- We calculate the ROC curve and AUC for both the training and test data using the roc_curve and auc functions.\n",
    "- We find the best threshold that maximizes Youden's J statistic (tpr_train - fpr_train) and apply it to obtain binary predictions for both train and test data.\n",
    "- We calculate the ROC-AUC score for train and test data using the best threshold and plot the ROC curves with the updated AUC values."
   ]
  }
 ],
 "metadata": {
  "kernelspec": {
   "display_name": "Python 3",
   "language": "python",
   "name": "python3"
  },
  "language_info": {
   "codemirror_mode": {
    "name": "ipython",
    "version": 3
   },
   "file_extension": ".py",
   "mimetype": "text/x-python",
   "name": "python",
   "nbconvert_exporter": "python",
   "pygments_lexer": "ipython3",
   "version": "3.8.18"
  },
  "orig_nbformat": 4
 },
 "nbformat": 4,
 "nbformat_minor": 2
}
